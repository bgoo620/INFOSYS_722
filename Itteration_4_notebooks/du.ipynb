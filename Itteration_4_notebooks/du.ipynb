{
 "cells": [
  {
   "cell_type": "markdown",
   "metadata": {},
   "source": [
    "<title>Data understanding</title>"
   ]
  },
  {
   "cell_type": "markdown",
   "metadata": {},
   "source": [
    "<h1>Data understanding</h1>"
   ]
  },
  {
   "cell_type": "code",
   "execution_count": 1,
   "metadata": {},
   "outputs": [
    {
     "name": "stdout",
     "output_type": "stream",
     "text": [
      "Requirement already satisfied: pyspark in c:\\users\\blake\\anaconda3\\lib\\site-packages (3.5.0)\n",
      "Requirement already satisfied: py4j==0.10.9.7 in c:\\users\\blake\\anaconda3\\lib\\site-packages (from pyspark) (0.10.9.7)\n",
      "Note: you may need to restart the kernel to use updated packages.\n"
     ]
    }
   ],
   "source": [
    "pip install pyspark"
   ]
  },
  {
   "cell_type": "code",
   "execution_count": 2,
   "metadata": {},
   "outputs": [],
   "source": [
    "\n",
    "import pyspark\n",
    "from pyspark.sql.functions import when, col, count, rand, sum, concat, lit, array,size, concat_ws\n",
    "from pyspark.ml.fpm import FPGrowth, PrefixSpan\n",
    "from pyspark.ml.clustering import KMeans\n",
    "from pyspark.ml.feature import VectorAssembler, StringIndexer, OneHotEncoder\n",
    "from pyspark.ml.evaluation import ClusteringEvaluator\n",
    "from pyspark.sql import SparkSession\n",
    "from pyspark.ml import Pipeline\n",
    "import matplotlib.pyplot as plt\n",
    "import seaborn as sns"
   ]
  },
  {
   "cell_type": "code",
   "execution_count": 3,
   "metadata": {},
   "outputs": [],
   "source": [
    "from pyspark.sql import SparkSession\n",
    "spark = SparkSession.builder.appName('Itteration 4').getOrCreate()"
   ]
  },
  {
   "cell_type": "markdown",
   "metadata": {},
   "source": [
    "<h2>Import datasets</h2>"
   ]
  },
  {
   "cell_type": "code",
   "execution_count": 4,
   "metadata": {},
   "outputs": [],
   "source": [
    "app_raw = spark.read.csv('d:/University/Postgrad/2023 Sem 2/INFOSYS 722/Assignments/Data used/application_data.csv', header=True, inferSchema=True)\n",
    "prev_raw = spark.read.csv(\"d:/University/Postgrad/2023 Sem 2/INFOSYS 722/Assignments/Data used/bureau.csv\", header=True, inferSchema=True)"
   ]
  },
  {
   "cell_type": "code",
   "execution_count": 5,
   "metadata": {},
   "outputs": [
    {
     "name": "stdout",
     "output_type": "stream",
     "text": [
      "+----------+------+------------------+-----------+------------+---------------+------------+----------------+----------+-----------+---------------+---------------+--------------------+--------------------+--------------------+-----------------+--------------------------+----------+-------------+-----------------+---------------+-----------+----------+--------------+---------------+----------------+----------+----------+---------------+---------------+--------------------+---------------------------+--------------------------+-----------------------+--------------------------+--------------------------+---------------------------+----------------------+----------------------+-----------------------+--------------------+-------------------+-------------------+-------------------+--------------+----------------+---------------------------+------------------+--------------+-------------+-------------+-------------+-------------+------------+--------------------+--------------+-----------------------+-----------------+---------------+-----------------+----------------------------+----------------+---------------+--------------+--------------+--------------+--------------+-------------+---------------------+---------------+------------------------+------------------+---------------+-----------------+----------------------------+------------------+---------------+--------------+--------------+--------------+--------------+-------------+---------------------+---------------+------------------------+------------------+------------------+--------------+--------------+------------------+-------------------+------------------------+------------------------+------------------------+------------------------+----------------------+---------------+---------------+---------------+---------------+---------------+---------------+---------------+---------------+----------------+----------------+----------------+----------------+----------------+----------------+----------------+----------------+----------------+----------------+----------------+----------------+--------------------------+-------------------------+--------------------------+-------------------------+-------------------------+--------------------------+\n",
      "|SK_ID_CURR|TARGET|NAME_CONTRACT_TYPE|CODE_GENDER|FLAG_OWN_CAR|FLAG_OWN_REALTY|CNT_CHILDREN|AMT_INCOME_TOTAL|AMT_CREDIT|AMT_ANNUITY|AMT_GOODS_PRICE|NAME_TYPE_SUITE|    NAME_INCOME_TYPE| NAME_EDUCATION_TYPE|  NAME_FAMILY_STATUS|NAME_HOUSING_TYPE|REGION_POPULATION_RELATIVE|DAYS_BIRTH|DAYS_EMPLOYED|DAYS_REGISTRATION|DAYS_ID_PUBLISH|OWN_CAR_AGE|FLAG_MOBIL|FLAG_EMP_PHONE|FLAG_WORK_PHONE|FLAG_CONT_MOBILE|FLAG_PHONE|FLAG_EMAIL|OCCUPATION_TYPE|CNT_FAM_MEMBERS|REGION_RATING_CLIENT|REGION_RATING_CLIENT_W_CITY|WEEKDAY_APPR_PROCESS_START|HOUR_APPR_PROCESS_START|REG_REGION_NOT_LIVE_REGION|REG_REGION_NOT_WORK_REGION|LIVE_REGION_NOT_WORK_REGION|REG_CITY_NOT_LIVE_CITY|REG_CITY_NOT_WORK_CITY|LIVE_CITY_NOT_WORK_CITY|   ORGANIZATION_TYPE|       EXT_SOURCE_1|       EXT_SOURCE_2|       EXT_SOURCE_3|APARTMENTS_AVG|BASEMENTAREA_AVG|YEARS_BEGINEXPLUATATION_AVG|   YEARS_BUILD_AVG|COMMONAREA_AVG|ELEVATORS_AVG|ENTRANCES_AVG|FLOORSMAX_AVG|FLOORSMIN_AVG|LANDAREA_AVG|LIVINGAPARTMENTS_AVG|LIVINGAREA_AVG|NONLIVINGAPARTMENTS_AVG|NONLIVINGAREA_AVG|APARTMENTS_MODE|BASEMENTAREA_MODE|YEARS_BEGINEXPLUATATION_MODE|YEARS_BUILD_MODE|COMMONAREA_MODE|ELEVATORS_MODE|ENTRANCES_MODE|FLOORSMAX_MODE|FLOORSMIN_MODE|LANDAREA_MODE|LIVINGAPARTMENTS_MODE|LIVINGAREA_MODE|NONLIVINGAPARTMENTS_MODE|NONLIVINGAREA_MODE|APARTMENTS_MEDI|BASEMENTAREA_MEDI|YEARS_BEGINEXPLUATATION_MEDI|  YEARS_BUILD_MEDI|COMMONAREA_MEDI|ELEVATORS_MEDI|ENTRANCES_MEDI|FLOORSMAX_MEDI|FLOORSMIN_MEDI|LANDAREA_MEDI|LIVINGAPARTMENTS_MEDI|LIVINGAREA_MEDI|NONLIVINGAPARTMENTS_MEDI|NONLIVINGAREA_MEDI|FONDKAPREMONT_MODE|HOUSETYPE_MODE|TOTALAREA_MODE|WALLSMATERIAL_MODE|EMERGENCYSTATE_MODE|OBS_30_CNT_SOCIAL_CIRCLE|DEF_30_CNT_SOCIAL_CIRCLE|OBS_60_CNT_SOCIAL_CIRCLE|DEF_60_CNT_SOCIAL_CIRCLE|DAYS_LAST_PHONE_CHANGE|FLAG_DOCUMENT_2|FLAG_DOCUMENT_3|FLAG_DOCUMENT_4|FLAG_DOCUMENT_5|FLAG_DOCUMENT_6|FLAG_DOCUMENT_7|FLAG_DOCUMENT_8|FLAG_DOCUMENT_9|FLAG_DOCUMENT_10|FLAG_DOCUMENT_11|FLAG_DOCUMENT_12|FLAG_DOCUMENT_13|FLAG_DOCUMENT_14|FLAG_DOCUMENT_15|FLAG_DOCUMENT_16|FLAG_DOCUMENT_17|FLAG_DOCUMENT_18|FLAG_DOCUMENT_19|FLAG_DOCUMENT_20|FLAG_DOCUMENT_21|AMT_REQ_CREDIT_BUREAU_HOUR|AMT_REQ_CREDIT_BUREAU_DAY|AMT_REQ_CREDIT_BUREAU_WEEK|AMT_REQ_CREDIT_BUREAU_MON|AMT_REQ_CREDIT_BUREAU_QRT|AMT_REQ_CREDIT_BUREAU_YEAR|\n",
      "+----------+------+------------------+-----------+------------+---------------+------------+----------------+----------+-----------+---------------+---------------+--------------------+--------------------+--------------------+-----------------+--------------------------+----------+-------------+-----------------+---------------+-----------+----------+--------------+---------------+----------------+----------+----------+---------------+---------------+--------------------+---------------------------+--------------------------+-----------------------+--------------------------+--------------------------+---------------------------+----------------------+----------------------+-----------------------+--------------------+-------------------+-------------------+-------------------+--------------+----------------+---------------------------+------------------+--------------+-------------+-------------+-------------+-------------+------------+--------------------+--------------+-----------------------+-----------------+---------------+-----------------+----------------------------+----------------+---------------+--------------+--------------+--------------+--------------+-------------+---------------------+---------------+------------------------+------------------+---------------+-----------------+----------------------------+------------------+---------------+--------------+--------------+--------------+--------------+-------------+---------------------+---------------+------------------------+------------------+------------------+--------------+--------------+------------------+-------------------+------------------------+------------------------+------------------------+------------------------+----------------------+---------------+---------------+---------------+---------------+---------------+---------------+---------------+---------------+----------------+----------------+----------------+----------------+----------------+----------------+----------------+----------------+----------------+----------------+----------------+----------------+--------------------------+-------------------------+--------------------------+-------------------------+-------------------------+--------------------------+\n",
      "|    100002|     1|        Cash loans|          M|           N|              Y|           0|        202500.0|  406597.5|    24700.5|       351000.0|  Unaccompanied|             Working|Secondary / secon...|Single / not married|House / apartment|                  0.018801|     -9461|         -637|          -3648.0|          -2120|       NULL|         1|             1|              0|               1|         1|         0|       Laborers|            1.0|                   2|                          2|                 WEDNESDAY|                     10|                         0|                         0|                          0|                     0|                     0|                      0|Business Entity T...|0.08303696739132256| 0.2629485927471776|0.13937578009978951|        0.0247|          0.0369|                     0.9722|            0.6192|        0.0143|          0.0|        0.069|       0.0833|        0.125|      0.0369|              0.0202|         0.019|                    0.0|              0.0|         0.0252|           0.0383|                      0.9722|          0.6341|         0.0144|           0.0|         0.069|        0.0833|         0.125|       0.0377|                0.022|         0.0198|                     0.0|               0.0|          0.025|           0.0369|                      0.9722|            0.6243|         0.0144|           0.0|         0.069|        0.0833|         0.125|       0.0375|               0.0205|         0.0193|                     0.0|               0.0|  reg oper account|block of flats|        0.0149|      Stone, brick|                 No|                     2.0|                     2.0|                     2.0|                     2.0|               -1134.0|              0|              1|              0|              0|              0|              0|              0|              0|               0|               0|               0|               0|               0|               0|               0|               0|               0|               0|               0|               0|                       0.0|                      0.0|                       0.0|                      0.0|                      0.0|                       1.0|\n",
      "|    100003|     0|        Cash loans|          F|           N|              N|           0|        270000.0| 1293502.5|    35698.5|      1129500.0|         Family|       State servant|    Higher education|             Married|House / apartment|      0.003540999999999999|    -16765|        -1188|          -1186.0|           -291|       NULL|         1|             1|              0|               1|         1|         0|     Core staff|            2.0|                   1|                          1|                    MONDAY|                     11|                         0|                         0|                          0|                     0|                     0|                      0|              School| 0.3112673113812225| 0.6222457752555098|               NULL|        0.0959|          0.0529|                     0.9851|0.7959999999999999|        0.0605|         0.08|       0.0345|       0.2917|       0.3333|       0.013|              0.0773|        0.0549|                 0.0039|           0.0098|         0.0924|           0.0538|                      0.9851|           0.804|         0.0497|        0.0806|        0.0345|        0.2917|        0.3333|       0.0128|                0.079|         0.0554|                     0.0|               0.0|         0.0968|           0.0529|                      0.9851|            0.7987|         0.0608|          0.08|        0.0345|        0.2917|        0.3333|       0.0132|               0.0787|         0.0558|                  0.0039|              0.01|  reg oper account|block of flats|        0.0714|             Block|                 No|                     1.0|                     0.0|                     1.0|                     0.0|                -828.0|              0|              1|              0|              0|              0|              0|              0|              0|               0|               0|               0|               0|               0|               0|               0|               0|               0|               0|               0|               0|                       0.0|                      0.0|                       0.0|                      0.0|                      0.0|                       0.0|\n",
      "|    100004|     0|   Revolving loans|          M|           Y|              Y|           0|         67500.0|  135000.0|     6750.0|       135000.0|  Unaccompanied|             Working|Secondary / secon...|Single / not married|House / apartment|                  0.010032|    -19046|         -225|          -4260.0|          -2531|       26.0|         1|             1|              1|               1|         1|         0|       Laborers|            1.0|                   2|                          2|                    MONDAY|                      9|                         0|                         0|                          0|                     0|                     0|                      0|          Government|               NULL| 0.5559120833904428| 0.7295666907060153|          NULL|            NULL|                       NULL|              NULL|          NULL|         NULL|         NULL|         NULL|         NULL|        NULL|                NULL|          NULL|                   NULL|             NULL|           NULL|             NULL|                        NULL|            NULL|           NULL|          NULL|          NULL|          NULL|          NULL|         NULL|                 NULL|           NULL|                    NULL|              NULL|           NULL|             NULL|                        NULL|              NULL|           NULL|          NULL|          NULL|          NULL|          NULL|         NULL|                 NULL|           NULL|                    NULL|              NULL|              NULL|          NULL|          NULL|              NULL|               NULL|                     0.0|                     0.0|                     0.0|                     0.0|                -815.0|              0|              0|              0|              0|              0|              0|              0|              0|               0|               0|               0|               0|               0|               0|               0|               0|               0|               0|               0|               0|                       0.0|                      0.0|                       0.0|                      0.0|                      0.0|                       0.0|\n",
      "|    100006|     0|        Cash loans|          F|           N|              Y|           0|        135000.0|  312682.5|    29686.5|       297000.0|  Unaccompanied|             Working|Secondary / secon...|      Civil marriage|House / apartment|                  0.008019|    -19005|        -3039|          -9833.0|          -2437|       NULL|         1|             1|              0|               1|         0|         0|       Laborers|            2.0|                   2|                          2|                 WEDNESDAY|                     17|                         0|                         0|                          0|                     0|                     0|                      0|Business Entity T...|               NULL| 0.6504416904014653|               NULL|          NULL|            NULL|                       NULL|              NULL|          NULL|         NULL|         NULL|         NULL|         NULL|        NULL|                NULL|          NULL|                   NULL|             NULL|           NULL|             NULL|                        NULL|            NULL|           NULL|          NULL|          NULL|          NULL|          NULL|         NULL|                 NULL|           NULL|                    NULL|              NULL|           NULL|             NULL|                        NULL|              NULL|           NULL|          NULL|          NULL|          NULL|          NULL|         NULL|                 NULL|           NULL|                    NULL|              NULL|              NULL|          NULL|          NULL|              NULL|               NULL|                     2.0|                     0.0|                     2.0|                     0.0|                -617.0|              0|              1|              0|              0|              0|              0|              0|              0|               0|               0|               0|               0|               0|               0|               0|               0|               0|               0|               0|               0|                      NULL|                     NULL|                      NULL|                     NULL|                     NULL|                      NULL|\n",
      "|    100007|     0|        Cash loans|          M|           N|              Y|           0|        121500.0|  513000.0|    21865.5|       513000.0|  Unaccompanied|             Working|Secondary / secon...|Single / not married|House / apartment|                  0.028663|    -19932|        -3038|          -4311.0|          -3458|       NULL|         1|             1|              0|               1|         0|         0|     Core staff|            1.0|                   2|                          2|                  THURSDAY|                     11|                         0|                         0|                          0|                     0|                     1|                      1|            Religion|               NULL| 0.3227382869704046|               NULL|          NULL|            NULL|                       NULL|              NULL|          NULL|         NULL|         NULL|         NULL|         NULL|        NULL|                NULL|          NULL|                   NULL|             NULL|           NULL|             NULL|                        NULL|            NULL|           NULL|          NULL|          NULL|          NULL|          NULL|         NULL|                 NULL|           NULL|                    NULL|              NULL|           NULL|             NULL|                        NULL|              NULL|           NULL|          NULL|          NULL|          NULL|          NULL|         NULL|                 NULL|           NULL|                    NULL|              NULL|              NULL|          NULL|          NULL|              NULL|               NULL|                     0.0|                     0.0|                     0.0|                     0.0|               -1106.0|              0|              0|              0|              0|              0|              0|              1|              0|               0|               0|               0|               0|               0|               0|               0|               0|               0|               0|               0|               0|                       0.0|                      0.0|                       0.0|                      0.0|                      0.0|                       0.0|\n",
      "|    100008|     0|        Cash loans|          M|           N|              Y|           0|         99000.0|  490495.5|    27517.5|       454500.0|Spouse, partner|       State servant|Secondary / secon...|             Married|House / apartment|      0.035792000000000004|    -16941|        -1588|          -4970.0|           -477|       NULL|         1|             1|              1|               1|         1|         0|       Laborers|            2.0|                   2|                          2|                 WEDNESDAY|                     16|                         0|                         0|                          0|                     0|                     0|                      0|               Other|               NULL| 0.3542247319929012| 0.6212263380626669|          NULL|            NULL|                       NULL|              NULL|          NULL|         NULL|         NULL|         NULL|         NULL|        NULL|                NULL|          NULL|                   NULL|             NULL|           NULL|             NULL|                        NULL|            NULL|           NULL|          NULL|          NULL|          NULL|          NULL|         NULL|                 NULL|           NULL|                    NULL|              NULL|           NULL|             NULL|                        NULL|              NULL|           NULL|          NULL|          NULL|          NULL|          NULL|         NULL|                 NULL|           NULL|                    NULL|              NULL|              NULL|          NULL|          NULL|              NULL|               NULL|                     0.0|                     0.0|                     0.0|                     0.0|               -2536.0|              0|              1|              0|              0|              0|              0|              0|              0|               0|               0|               0|               0|               0|               0|               0|               0|               0|               0|               0|               0|                       0.0|                      0.0|                       0.0|                      0.0|                      1.0|                       1.0|\n",
      "|    100009|     0|        Cash loans|          F|           Y|              Y|           1|        171000.0| 1560726.0|    41301.0|      1395000.0|  Unaccompanied|Commercial associate|    Higher education|             Married|House / apartment|      0.035792000000000004|    -13778|        -3130|          -1213.0|           -619|       17.0|         1|             1|              0|               1|         1|         0|    Accountants|            3.0|                   2|                          2|                    SUNDAY|                     16|                         0|                         0|                          0|                     0|                     0|                      0|Business Entity T...| 0.7747614130547695| 0.7239998516953141| 0.4920600938649263|          NULL|            NULL|                       NULL|              NULL|          NULL|         NULL|         NULL|         NULL|         NULL|        NULL|                NULL|          NULL|                   NULL|             NULL|           NULL|             NULL|                        NULL|            NULL|           NULL|          NULL|          NULL|          NULL|          NULL|         NULL|                 NULL|           NULL|                    NULL|              NULL|           NULL|             NULL|                        NULL|              NULL|           NULL|          NULL|          NULL|          NULL|          NULL|         NULL|                 NULL|           NULL|                    NULL|              NULL|              NULL|          NULL|          NULL|              NULL|               NULL|                     1.0|                     0.0|                     1.0|                     0.0|               -1562.0|              0|              0|              0|              0|              0|              0|              1|              0|               0|               0|               0|               0|               1|               0|               0|               0|               0|               0|               0|               0|                       0.0|                      0.0|                       0.0|                      1.0|                      1.0|                       2.0|\n",
      "|    100010|     0|        Cash loans|          M|           Y|              Y|           0|        360000.0| 1530000.0|    42075.0|      1530000.0|  Unaccompanied|       State servant|    Higher education|             Married|House / apartment|      0.003121999999999...|    -18850|         -449|          -4597.0|          -2379|        8.0|         1|             1|              1|               1|         0|         0|       Managers|            2.0|                   3|                          3|                    MONDAY|                     16|                         0|                         0|                          0|                     0|                     1|                      1|               Other|               NULL| 0.7142792864482229| 0.5406544504453575|          NULL|            NULL|                       NULL|              NULL|          NULL|         NULL|         NULL|         NULL|         NULL|        NULL|                NULL|          NULL|                   NULL|             NULL|           NULL|             NULL|                        NULL|            NULL|           NULL|          NULL|          NULL|          NULL|          NULL|         NULL|                 NULL|           NULL|                    NULL|              NULL|           NULL|             NULL|                        NULL|              NULL|           NULL|          NULL|          NULL|          NULL|          NULL|         NULL|                 NULL|           NULL|                    NULL|              NULL|              NULL|          NULL|          NULL|              NULL|               NULL|                     2.0|                     0.0|                     2.0|                     0.0|               -1070.0|              0|              1|              0|              0|              0|              0|              0|              0|               0|               0|               0|               0|               0|               0|               0|               0|               0|               0|               0|               0|                       0.0|                      0.0|                       0.0|                      0.0|                      0.0|                       0.0|\n",
      "|    100011|     0|        Cash loans|          F|           N|              Y|           0|        112500.0| 1019610.0|    33826.5|       913500.0|       Children|           Pensioner|Secondary / secon...|             Married|House / apartment|                  0.018634|    -20099|       365243|          -7427.0|          -3514|       NULL|         1|             0|              0|               1|         0|         0|           NULL|            2.0|                   2|                          2|                 WEDNESDAY|                     14|                         0|                         0|                          0|                     0|                     0|                      0|                 XNA| 0.5873340468730377|0.20574728800732814| 0.7517237147741489|          NULL|            NULL|                       NULL|              NULL|          NULL|         NULL|         NULL|         NULL|         NULL|        NULL|                NULL|          NULL|                   NULL|             NULL|           NULL|             NULL|                        NULL|            NULL|           NULL|          NULL|          NULL|          NULL|          NULL|         NULL|                 NULL|           NULL|                    NULL|              NULL|           NULL|             NULL|                        NULL|              NULL|           NULL|          NULL|          NULL|          NULL|          NULL|         NULL|                 NULL|           NULL|                    NULL|              NULL|              NULL|          NULL|          NULL|              NULL|               NULL|                     1.0|                     0.0|                     1.0|                     0.0|                   0.0|              0|              1|              0|              0|              0|              0|              0|              0|               0|               0|               0|               0|               0|               0|               0|               0|               0|               0|               0|               0|                       0.0|                      0.0|                       0.0|                      0.0|                      0.0|                       1.0|\n",
      "|    100012|     0|   Revolving loans|          M|           N|              Y|           0|        135000.0|  405000.0|    20250.0|       405000.0|  Unaccompanied|             Working|Secondary / secon...|Single / not married|House / apartment|      0.019688999999999998|    -14469|        -2019|         -14437.0|          -3992|       NULL|         1|             1|              0|               1|         0|         0|       Laborers|            1.0|                   2|                          2|                  THURSDAY|                      8|                         0|                         0|                          0|                     0|                     0|                      0|         Electricity|               NULL| 0.7466436294590924|               NULL|          NULL|            NULL|                       NULL|              NULL|          NULL|         NULL|         NULL|         NULL|         NULL|        NULL|                NULL|          NULL|                   NULL|             NULL|           NULL|             NULL|                        NULL|            NULL|           NULL|          NULL|          NULL|          NULL|          NULL|         NULL|                 NULL|           NULL|                    NULL|              NULL|           NULL|             NULL|                        NULL|              NULL|           NULL|          NULL|          NULL|          NULL|          NULL|         NULL|                 NULL|           NULL|                    NULL|              NULL|              NULL|          NULL|          NULL|              NULL|               NULL|                     2.0|                     0.0|                     2.0|                     0.0|               -1673.0|              0|              0|              0|              0|              0|              0|              0|              0|               0|               0|               0|               0|               0|               0|               0|               0|               0|               0|               0|               0|                      NULL|                     NULL|                      NULL|                     NULL|                     NULL|                      NULL|\n",
      "|    100014|     0|        Cash loans|          F|           N|              Y|           1|        112500.0|  652500.0|    21177.0|       652500.0|  Unaccompanied|             Working|    Higher education|             Married|House / apartment|                    0.0228|    -10197|         -679|          -4427.0|           -738|       NULL|         1|             1|              0|               1|         0|         0|     Core staff|            3.0|                   2|                          2|                  SATURDAY|                     15|                         0|                         0|                          0|                     0|                     0|                      0|            Medicine| 0.3197601716755032| 0.6518623334244781|  0.363945238612397|          NULL|            NULL|                       NULL|              NULL|          NULL|         NULL|         NULL|         NULL|         NULL|        NULL|                NULL|          NULL|                   NULL|             NULL|           NULL|             NULL|                        NULL|            NULL|           NULL|          NULL|          NULL|          NULL|          NULL|         NULL|                 NULL|           NULL|                    NULL|              NULL|           NULL|             NULL|                        NULL|              NULL|           NULL|          NULL|          NULL|          NULL|          NULL|         NULL|                 NULL|           NULL|                    NULL|              NULL|              NULL|          NULL|          NULL|              NULL|               NULL|                     0.0|                     0.0|                     0.0|                     0.0|                -844.0|              0|              1|              0|              0|              0|              0|              0|              0|               0|               0|               0|               0|               0|               0|               0|               0|               0|               0|               0|               0|                       0.0|                      0.0|                       0.0|                      1.0|                      0.0|                       0.0|\n",
      "|    100015|     0|        Cash loans|          F|           N|              Y|           0|       38419.155|  148365.0|    10678.5|       135000.0|       Children|           Pensioner|Secondary / secon...|             Married|House / apartment|                  0.015221|    -20417|       365243|          -5246.0|          -2512|       NULL|         1|             0|              0|               1|         1|         0|           NULL|            2.0|                   2|                          2|                    FRIDAY|                      7|                         0|                         0|                          0|                     0|                     0|                      0|                 XNA| 0.7220444501416448| 0.5551831615131809| 0.6528965519806539|          NULL|            NULL|                       NULL|              NULL|          NULL|         NULL|         NULL|         NULL|         NULL|        NULL|                NULL|          NULL|                   NULL|             NULL|           NULL|             NULL|                        NULL|            NULL|           NULL|          NULL|          NULL|          NULL|          NULL|         NULL|                 NULL|           NULL|                    NULL|              NULL|           NULL|             NULL|                        NULL|              NULL|           NULL|          NULL|          NULL|          NULL|          NULL|         NULL|                 NULL|           NULL|                    NULL|              NULL|              NULL|          NULL|          NULL|              NULL|               NULL|                     0.0|                     0.0|                     0.0|                     0.0|               -2396.0|              0|              0|              0|              0|              1|              0|              0|              0|               0|               0|               0|               0|               0|               0|               0|               0|               0|               0|               0|               0|                       0.0|                      0.0|                       0.0|                      0.0|                      0.0|                       2.0|\n",
      "|    100016|     0|        Cash loans|          F|           N|              Y|           0|         67500.0|   80865.0|     5881.5|        67500.0|  Unaccompanied|             Working|Secondary / secon...|             Married|House / apartment|                  0.031329|    -13439|        -2717|           -311.0|          -3227|       NULL|         1|             1|              1|               1|         1|         0|       Laborers|            2.0|                   2|                          2|                    FRIDAY|                     10|                         0|                         0|                          0|                     0|                     0|                      0|Business Entity T...| 0.4648311169632833| 0.7150418188660659| 0.1766525794312139|        0.0825|            NULL|                     0.9811|              NULL|          NULL|          0.0|       0.2069|       0.1667|         NULL|      0.0135|                NULL|        0.0778|                   NULL|              0.0|          0.084|             NULL|                      0.9811|            NULL|           NULL|           0.0|        0.2069|        0.1667|          NULL|       0.0138|                 NULL|          0.081|                    NULL|               0.0|         0.0833|             NULL|                      0.9811|              NULL|           NULL|           0.0|        0.2069|        0.1667|          NULL|       0.0137|                 NULL|         0.0792|                    NULL|               0.0|  reg oper account|block of flats|        0.0612|              NULL|                 No|                     0.0|                     0.0|                     0.0|                     0.0|               -2370.0|              0|              1|              0|              0|              0|              0|              0|              0|               0|               0|               0|               0|               0|               0|               0|               0|               0|               0|               0|               0|                       0.0|                      0.0|                       0.0|                      1.0|                      0.0|                       0.0|\n",
      "|    100017|     0|        Cash loans|          M|           Y|              N|           1|        225000.0|  918468.0|    28966.5|       697500.0|  Unaccompanied|             Working|Secondary / secon...|             Married|House / apartment|      0.016612000000000002|    -14086|        -3028|           -643.0|          -4911|       23.0|         1|             1|              0|               1|         0|         0|        Drivers|            3.0|                   2|                          2|                  THURSDAY|                     13|                         0|                         0|                          0|                     0|                     0|                      0|       Self-employed|               NULL| 0.5669066132460429| 0.7700870700124128|        0.1474|          0.0973|                     0.9806|            0.7348|        0.0582|         0.16|       0.1379|       0.3333|        0.375|      0.0931|              0.1202|        0.1397|                    0.0|              0.0|         0.1502|            0.101|                      0.9806|          0.7452|         0.0587|        0.1611|        0.1379|        0.3333|         0.375|       0.0952|               0.1313|         0.1456|                     0.0|               0.0|         0.1489|           0.0973|                      0.9806|            0.7383|         0.0585|          0.16|        0.1379|        0.3333|         0.375|       0.0947|               0.1223|         0.1422|                     0.0|               0.0|  reg oper account|block of flats|        0.1417|             Panel|                 No|                     0.0|                     0.0|                     0.0|                     0.0|                  -4.0|              0|              1|              0|              0|              0|              0|              0|              0|               0|               0|               0|               0|               0|               0|               0|               0|               0|               0|               0|               0|                       0.0|                      0.0|                       0.0|                      0.0|                      0.0|                       1.0|\n",
      "|    100018|     0|        Cash loans|          F|           N|              Y|           0|        189000.0|  773680.5|    32778.0|       679500.0|  Unaccompanied|             Working|Secondary / secon...|             Married|House / apartment|      0.010006000000000001|    -14583|         -203|           -615.0|          -2056|       NULL|         1|             1|              0|               1|         0|         0|       Laborers|            2.0|                   2|                          1|                    MONDAY|                      9|                         0|                         0|                          0|                     0|                     0|                      0|   Transport: type 2| 0.7219397686622343| 0.6426562048311103|               NULL|        0.3495|          0.1335|                     0.9985|            0.9796|        0.1143|          0.4|       0.1724|       0.6667|       0.7083|      0.1758|              0.2849|        0.3774|                 0.0193|           0.1001|         0.3561|           0.1386|                      0.9985|          0.9804|         0.1153|        0.4028|        0.1724|        0.6667|        0.7083|       0.1798|               0.3113|         0.3932|                  0.0195|             0.106|         0.3529|           0.1335|                      0.9985|            0.9799|          0.115|           0.4|        0.1724|        0.6667|        0.7083|       0.1789|               0.2899|         0.3842|                  0.0194|            0.1022|  reg oper account|block of flats|        0.3811|             Panel|                 No|                     0.0|                     0.0|                     0.0|                     0.0|                -188.0|              0|              1|              0|              0|              0|              0|              0|              0|               0|               0|               0|               0|               0|               0|               0|               0|               0|               0|               0|               0|                      NULL|                     NULL|                      NULL|                     NULL|                     NULL|                      NULL|\n",
      "|    100019|     0|        Cash loans|          M|           Y|              Y|           0|        157500.0|  299772.0|    20160.0|       247500.0|         Family|             Working|Secondary / secon...|Single / not married| Rented apartment|                  0.020713|     -8728|        -1157|          -3494.0|          -1368|       17.0|         1|             1|              0|               1|         0|         0|       Laborers|            1.0|                   3|                          3|                  SATURDAY|                      6|                         0|                         0|                          0|                     1|                     1|                      0|Business Entity T...|0.11563433726229973|   0.34663398139668| 0.6785676886853644|          NULL|            NULL|                       NULL|              NULL|          NULL|         NULL|         NULL|         NULL|         NULL|        NULL|                NULL|          NULL|                   NULL|             NULL|           NULL|             NULL|                        NULL|            NULL|           NULL|          NULL|          NULL|          NULL|          NULL|         NULL|                 NULL|           NULL|                    NULL|              NULL|           NULL|             NULL|                        NULL|              NULL|           NULL|          NULL|          NULL|          NULL|          NULL|         NULL|                 NULL|           NULL|                    NULL|              NULL|              NULL|          NULL|          NULL|              NULL|               NULL|                     0.0|                     0.0|                     0.0|                     0.0|                -925.0|              0|              0|              0|              0|              0|              0|              1|              0|               0|               0|               0|               0|               0|               0|               0|               0|               0|               0|               0|               0|                       0.0|                      0.0|                       0.0|                      0.0|                      0.0|                       1.0|\n",
      "|    100020|     0|        Cash loans|          M|           N|              N|           0|        108000.0|  509602.5|    26149.5|       387000.0|  Unaccompanied|             Working|Secondary / secon...|             Married|House / apartment|                  0.018634|    -12931|        -1317|          -6392.0|          -3866|       NULL|         1|             1|              0|               1|         0|         0|        Drivers|            2.0|                   2|                          2|                  THURSDAY|                     12|                         0|                         0|                          0|                     1|                     1|                      0|          Government|               NULL| 0.2363778398884225|0.06210303783729682|          NULL|            NULL|                       NULL|              NULL|          NULL|         NULL|         NULL|         NULL|         NULL|        NULL|                NULL|          NULL|                   NULL|             NULL|           NULL|             NULL|                        NULL|            NULL|           NULL|          NULL|          NULL|          NULL|          NULL|         NULL|                 NULL|           NULL|                    NULL|              NULL|           NULL|             NULL|                        NULL|              NULL|           NULL|          NULL|          NULL|          NULL|          NULL|         NULL|                 NULL|           NULL|                    NULL|              NULL|              NULL|          NULL|          NULL|              NULL|               NULL|                     0.0|                     0.0|                     0.0|                     0.0|                  -3.0|              0|              1|              0|              0|              0|              0|              0|              0|               0|               0|               0|               0|               0|               0|               0|               0|               0|               0|               0|               0|                       0.0|                      0.0|                       0.0|                      0.0|                      1.0|                       0.0|\n",
      "|    100021|     0|   Revolving loans|          F|           N|              Y|           1|         81000.0|  270000.0|    13500.0|       270000.0|  Unaccompanied|             Working|Secondary / secon...|             Married|House / apartment|                  0.010966|     -9776|         -191|          -4143.0|          -2427|       NULL|         1|             1|              0|               1|         0|         0|       Laborers|            3.0|                   2|                          2|                    MONDAY|                     10|                         0|                         0|                          0|                     1|                     1|                      0|        Construction|               NULL| 0.6835133461914255|               NULL|          NULL|            NULL|                       NULL|              NULL|          NULL|         NULL|         NULL|         NULL|         NULL|        NULL|                NULL|          NULL|                   NULL|             NULL|           NULL|             NULL|                        NULL|            NULL|           NULL|          NULL|          NULL|          NULL|          NULL|         NULL|                 NULL|           NULL|                    NULL|              NULL|           NULL|             NULL|                        NULL|              NULL|           NULL|          NULL|          NULL|          NULL|          NULL|         NULL|                 NULL|           NULL|                    NULL|              NULL|              NULL|          NULL|          NULL|              NULL|               NULL|                     4.0|                     0.0|                     4.0|                     0.0|               -2811.0|              0|              0|              0|              0|              0|              0|              0|              0|               0|               0|               0|               0|               0|               0|               0|               0|               0|               0|               0|               0|                      NULL|                     NULL|                      NULL|                     NULL|                     NULL|                      NULL|\n",
      "|    100022|     0|   Revolving loans|          F|           N|              Y|           0|        112500.0|  157500.0|     7875.0|       157500.0|        Other_A|             Working|Secondary / secon...|               Widow|House / apartment|                   0.04622|    -17718|        -7804|          -8751.0|          -1259|       NULL|         1|             1|              0|               1|         1|         0|       Laborers|            1.0|                   1|                          1|                    FRIDAY|                     13|                         0|                         0|                          0|                     0|                     0|                      0|             Housing|               NULL| 0.7064284028871654| 0.5567274263630174|        0.0278|          0.0617|                     0.9881|            0.8368|        0.0018|          0.0|       0.1034|       0.0833|        0.125|      0.0279|              0.0227|         0.029|                    0.0|              0.0|         0.0284|            0.064|                      0.9881|          0.8432|         0.0018|           0.0|        0.1034|        0.0833|         0.125|       0.0286|               0.0248|         0.0302|                     0.0|               0.0|         0.0281|           0.0617|                      0.9881|0.8390000000000001|         0.0018|           0.0|        0.1034|        0.0833|         0.125|       0.0284|               0.0231|         0.0295|                     0.0|               0.0|  reg oper account|block of flats|        0.0238|      Stone, brick|                 No|                     8.0|                     0.0|                     8.0|                     0.0|                -239.0|              0|              1|              0|              0|              0|              0|              0|              0|               0|               0|               0|               0|               0|               0|               0|               0|               0|               0|               0|               0|                       0.0|                      0.0|                       0.0|                      0.0|                      0.0|                       0.0|\n",
      "|    100023|     0|        Cash loans|          F|           N|              Y|           1|         90000.0|  544491.0|    17563.5|       454500.0|  Unaccompanied|       State servant|    Higher education|Single / not married|House / apartment|                  0.015221|    -11348|        -2038|          -1021.0|          -3964|       NULL|         1|             1|              1|               1|         1|         0|     Core staff|            2.0|                   2|                          2|                    MONDAY|                     12|                         0|                         0|                          0|                     0|                     0|                      0|        Kindergarten|               NULL| 0.5866171400119664| 0.4776491548517548|          NULL|            NULL|                       NULL|              NULL|          NULL|         NULL|         NULL|         NULL|         NULL|        NULL|                NULL|          NULL|                   NULL|             NULL|           NULL|             NULL|                        NULL|            NULL|           NULL|          NULL|          NULL|          NULL|          NULL|         NULL|                 NULL|           NULL|                    NULL|              NULL|           NULL|             NULL|                        NULL|              NULL|           NULL|          NULL|          NULL|          NULL|          NULL|         NULL|                 NULL|           NULL|                    NULL|              NULL|              NULL|          NULL|          NULL|              NULL|               NULL|                     0.0|                     0.0|                     0.0|                     0.0|               -1850.0|              0|              1|              0|              0|              0|              0|              0|              0|               0|               0|               0|               0|               0|               0|               0|               0|               0|               0|               0|               0|                       0.0|                      0.0|                       0.0|                      0.0|                      0.0|                       2.0|\n",
      "+----------+------+------------------+-----------+------------+---------------+------------+----------------+----------+-----------+---------------+---------------+--------------------+--------------------+--------------------+-----------------+--------------------------+----------+-------------+-----------------+---------------+-----------+----------+--------------+---------------+----------------+----------+----------+---------------+---------------+--------------------+---------------------------+--------------------------+-----------------------+--------------------------+--------------------------+---------------------------+----------------------+----------------------+-----------------------+--------------------+-------------------+-------------------+-------------------+--------------+----------------+---------------------------+------------------+--------------+-------------+-------------+-------------+-------------+------------+--------------------+--------------+-----------------------+-----------------+---------------+-----------------+----------------------------+----------------+---------------+--------------+--------------+--------------+--------------+-------------+---------------------+---------------+------------------------+------------------+---------------+-----------------+----------------------------+------------------+---------------+--------------+--------------+--------------+--------------+-------------+---------------------+---------------+------------------------+------------------+------------------+--------------+--------------+------------------+-------------------+------------------------+------------------------+------------------------+------------------------+----------------------+---------------+---------------+---------------+---------------+---------------+---------------+---------------+---------------+----------------+----------------+----------------+----------------+----------------+----------------+----------------+----------------+----------------+----------------+----------------+----------------+--------------------------+-------------------------+--------------------------+-------------------------+-------------------------+--------------------------+\n",
      "only showing top 20 rows\n",
      "\n"
     ]
    }
   ],
   "source": [
    "app_raw.show()"
   ]
  },
  {
   "cell_type": "code",
   "execution_count": 6,
   "metadata": {},
   "outputs": [
    {
     "name": "stdout",
     "output_type": "stream",
     "text": [
      "+----------+------------+-------------+---------------+-----------+------------------+-------------------+-----------------+----------------------+------------------+--------------+-------------------+--------------------+----------------------+---------------+------------------+-----------+\n",
      "|SK_ID_CURR|SK_ID_BUREAU|CREDIT_ACTIVE|CREDIT_CURRENCY|DAYS_CREDIT|CREDIT_DAY_OVERDUE|DAYS_CREDIT_ENDDATE|DAYS_ENDDATE_FACT|AMT_CREDIT_MAX_OVERDUE|CNT_CREDIT_PROLONG|AMT_CREDIT_SUM|AMT_CREDIT_SUM_DEBT|AMT_CREDIT_SUM_LIMIT|AMT_CREDIT_SUM_OVERDUE|    CREDIT_TYPE|DAYS_CREDIT_UPDATE|AMT_ANNUITY|\n",
      "+----------+------------+-------------+---------------+-----------+------------------+-------------------+-----------------+----------------------+------------------+--------------+-------------------+--------------------+----------------------+---------------+------------------+-----------+\n",
      "|    215354|     5714462|       Closed|     currency 1|       -497|                 0|             -153.0|           -153.0|                  NULL|                 0|       91323.0|                0.0|                NULL|                   0.0|Consumer credit|              -131|       NULL|\n",
      "|    215354|     5714463|       Active|     currency 1|       -208|                 0|             1075.0|             NULL|                  NULL|                 0|      225000.0|           171342.0|                NULL|                   0.0|    Credit card|               -20|       NULL|\n",
      "|    215354|     5714464|       Active|     currency 1|       -203|                 0|              528.0|             NULL|                  NULL|                 0|      464323.5|               NULL|                NULL|                   0.0|Consumer credit|               -16|       NULL|\n",
      "|    215354|     5714465|       Active|     currency 1|       -203|                 0|               NULL|             NULL|                  NULL|                 0|       90000.0|               NULL|                NULL|                   0.0|    Credit card|               -16|       NULL|\n",
      "|    215354|     5714466|       Active|     currency 1|       -629|                 0|             1197.0|             NULL|               77674.5|                 0|     2700000.0|               NULL|                NULL|                   0.0|Consumer credit|               -21|       NULL|\n",
      "|    215354|     5714467|       Active|     currency 1|       -273|                 0|            27460.0|             NULL|                   0.0|                 0|      180000.0|           71017.38|           108982.62|                   0.0|    Credit card|               -31|       NULL|\n",
      "|    215354|     5714468|       Active|     currency 1|        -43|                 0|               79.0|             NULL|                   0.0|                 0|       42103.8|            42103.8|                 0.0|                   0.0|Consumer credit|               -22|       NULL|\n",
      "|    162297|     5714469|       Closed|     currency 1|      -1896|                 0|            -1684.0|          -1710.0|               14985.0|                 0|      76878.45|                0.0|                 0.0|                   0.0|Consumer credit|             -1710|       NULL|\n",
      "|    162297|     5714470|       Closed|     currency 1|      -1146|                 0|             -811.0|           -840.0|                   0.0|                 0|      103007.7|                0.0|                 0.0|                   0.0|Consumer credit|              -840|       NULL|\n",
      "|    162297|     5714471|       Active|     currency 1|      -1146|                 0|             -484.0|             NULL|                   0.0|                 0|        4500.0|                0.0|                 0.0|                   0.0|    Credit card|              -690|       NULL|\n",
      "|    162297|     5714472|       Active|     currency 1|      -1146|                 0|             -180.0|             NULL|                   0.0|                 0|      337500.0|                0.0|                 0.0|                   0.0|    Credit card|              -690|       NULL|\n",
      "|    162297|     5714473|       Closed|     currency 1|      -2456|                 0|             -629.0|           -825.0|                  NULL|                 0|      675000.0|                0.0|                 0.0|                   0.0|Consumer credit|              -706|       NULL|\n",
      "|    162297|     5714474|       Active|     currency 1|       -277|                 0|             5261.0|             NULL|                   0.0|                 0|     7033500.0|               NULL|                NULL|                   0.0|       Mortgage|               -31|       NULL|\n",
      "|    402440|     5714475|       Active|     currency 1|        -96|                 0|              269.0|             NULL|                   0.0|                 0|       89910.0|            76905.0|                 0.0|                   0.0|Consumer credit|               -22|       NULL|\n",
      "|    238881|     5714482|       Closed|     currency 1|       -318|                 0|             -187.0|           -187.0|                  NULL|                 0|           0.0|                0.0|                 0.0|                   0.0|    Credit card|              -185|       NULL|\n",
      "|    238881|     5714484|       Closed|     currency 1|      -2911|                 0|            -2607.0|          -2604.0|                  NULL|                 0|       48555.0|               NULL|                NULL|                   0.0|Consumer credit|             -2601|       NULL|\n",
      "|    238881|     5714485|       Closed|     currency 1|      -2148|                 0|            -1595.0|           -987.0|                  NULL|                 0|      135000.0|               NULL|                NULL|                   0.0|Consumer credit|              -984|       NULL|\n",
      "|    238881|     5714486|       Active|     currency 1|       -381|                 0|               NULL|             NULL|                  NULL|                 0|      450000.0|           520920.0|                NULL|                   0.0|Consumer credit|                -4|       NULL|\n",
      "|    238881|     5714487|       Active|     currency 1|        -95|                 0|             1720.0|             NULL|                  NULL|                 0|       67500.0|             8131.5|                NULL|                   0.0|    Credit card|                -7|       NULL|\n",
      "|    238881|     5714488|       Closed|     currency 1|       -444|                 0|              -77.0|            -77.0|                   0.0|                 0|     107184.06|                0.0|                 0.0|                   0.0|Consumer credit|               -71|       NULL|\n",
      "+----------+------------+-------------+---------------+-----------+------------------+-------------------+-----------------+----------------------+------------------+--------------+-------------------+--------------------+----------------------+---------------+------------------+-----------+\n",
      "only showing top 20 rows\n",
      "\n"
     ]
    }
   ],
   "source": [
    "prev_raw.show()"
   ]
  },
  {
   "cell_type": "markdown",
   "metadata": {},
   "source": [
    "<h2>Data prerperation</h2>"
   ]
  },
  {
   "cell_type": "code",
   "execution_count": 7,
   "metadata": {},
   "outputs": [
    {
     "name": "stdout",
     "output_type": "stream",
     "text": [
      "+----------+------------------+-----------+------------+---------------+------------+----------------+----------+-----------+---------------+---------------+--------------------+--------------------+--------------------+-----------------+----------+-------------+-----------------+---------------+-----------+---------------+---------------+--------------------------+-----------------------+--------------------+--------------------------+-------------------------+--------------------------+-------------------------+-------------------------+--------------------------+\n",
      "|SK_ID_CURR|NAME_CONTRACT_TYPE|CODE_GENDER|FLAG_OWN_CAR|FLAG_OWN_REALTY|CNT_CHILDREN|AMT_INCOME_TOTAL|AMT_CREDIT|AMT_ANNUITY|AMT_GOODS_PRICE|NAME_TYPE_SUITE|    NAME_INCOME_TYPE| NAME_EDUCATION_TYPE|  NAME_FAMILY_STATUS|NAME_HOUSING_TYPE|DAYS_BIRTH|DAYS_EMPLOYED|DAYS_REGISTRATION|DAYS_ID_PUBLISH|OWN_CAR_AGE|OCCUPATION_TYPE|CNT_FAM_MEMBERS|WEEKDAY_APPR_PROCESS_START|HOUR_APPR_PROCESS_START|   ORGANIZATION_TYPE|AMT_REQ_CREDIT_BUREAU_HOUR|AMT_REQ_CREDIT_BUREAU_DAY|AMT_REQ_CREDIT_BUREAU_WEEK|AMT_REQ_CREDIT_BUREAU_MON|AMT_REQ_CREDIT_BUREAU_QRT|AMT_REQ_CREDIT_BUREAU_YEAR|\n",
      "+----------+------------------+-----------+------------+---------------+------------+----------------+----------+-----------+---------------+---------------+--------------------+--------------------+--------------------+-----------------+----------+-------------+-----------------+---------------+-----------+---------------+---------------+--------------------------+-----------------------+--------------------+--------------------------+-------------------------+--------------------------+-------------------------+-------------------------+--------------------------+\n",
      "|    100002|        Cash loans|          M|           N|              Y|           0|        202500.0|  406597.5|    24700.5|       351000.0|  Unaccompanied|             Working|Secondary / secon...|Single / not married|House / apartment|     -9461|         -637|          -3648.0|          -2120|       NULL|       Laborers|            1.0|                 WEDNESDAY|                     10|Business Entity T...|                       0.0|                      0.0|                       0.0|                      0.0|                      0.0|                       1.0|\n",
      "|    100003|        Cash loans|          F|           N|              N|           0|        270000.0| 1293502.5|    35698.5|      1129500.0|         Family|       State servant|    Higher education|             Married|House / apartment|    -16765|        -1188|          -1186.0|           -291|       NULL|     Core staff|            2.0|                    MONDAY|                     11|              School|                       0.0|                      0.0|                       0.0|                      0.0|                      0.0|                       0.0|\n",
      "|    100004|   Revolving loans|          M|           Y|              Y|           0|         67500.0|  135000.0|     6750.0|       135000.0|  Unaccompanied|             Working|Secondary / secon...|Single / not married|House / apartment|    -19046|         -225|          -4260.0|          -2531|       26.0|       Laborers|            1.0|                    MONDAY|                      9|          Government|                       0.0|                      0.0|                       0.0|                      0.0|                      0.0|                       0.0|\n",
      "|    100006|        Cash loans|          F|           N|              Y|           0|        135000.0|  312682.5|    29686.5|       297000.0|  Unaccompanied|             Working|Secondary / secon...|      Civil marriage|House / apartment|    -19005|        -3039|          -9833.0|          -2437|       NULL|       Laborers|            2.0|                 WEDNESDAY|                     17|Business Entity T...|                      NULL|                     NULL|                      NULL|                     NULL|                     NULL|                      NULL|\n",
      "|    100007|        Cash loans|          M|           N|              Y|           0|        121500.0|  513000.0|    21865.5|       513000.0|  Unaccompanied|             Working|Secondary / secon...|Single / not married|House / apartment|    -19932|        -3038|          -4311.0|          -3458|       NULL|     Core staff|            1.0|                  THURSDAY|                     11|            Religion|                       0.0|                      0.0|                       0.0|                      0.0|                      0.0|                       0.0|\n",
      "|    100008|        Cash loans|          M|           N|              Y|           0|         99000.0|  490495.5|    27517.5|       454500.0|Spouse, partner|       State servant|Secondary / secon...|             Married|House / apartment|    -16941|        -1588|          -4970.0|           -477|       NULL|       Laborers|            2.0|                 WEDNESDAY|                     16|               Other|                       0.0|                      0.0|                       0.0|                      0.0|                      1.0|                       1.0|\n",
      "|    100009|        Cash loans|          F|           Y|              Y|           1|        171000.0| 1560726.0|    41301.0|      1395000.0|  Unaccompanied|Commercial associate|    Higher education|             Married|House / apartment|    -13778|        -3130|          -1213.0|           -619|       17.0|    Accountants|            3.0|                    SUNDAY|                     16|Business Entity T...|                       0.0|                      0.0|                       0.0|                      1.0|                      1.0|                       2.0|\n",
      "|    100010|        Cash loans|          M|           Y|              Y|           0|        360000.0| 1530000.0|    42075.0|      1530000.0|  Unaccompanied|       State servant|    Higher education|             Married|House / apartment|    -18850|         -449|          -4597.0|          -2379|        8.0|       Managers|            2.0|                    MONDAY|                     16|               Other|                       0.0|                      0.0|                       0.0|                      0.0|                      0.0|                       0.0|\n",
      "|    100011|        Cash loans|          F|           N|              Y|           0|        112500.0| 1019610.0|    33826.5|       913500.0|       Children|           Pensioner|Secondary / secon...|             Married|House / apartment|    -20099|       365243|          -7427.0|          -3514|       NULL|           NULL|            2.0|                 WEDNESDAY|                     14|                 XNA|                       0.0|                      0.0|                       0.0|                      0.0|                      0.0|                       1.0|\n",
      "|    100012|   Revolving loans|          M|           N|              Y|           0|        135000.0|  405000.0|    20250.0|       405000.0|  Unaccompanied|             Working|Secondary / secon...|Single / not married|House / apartment|    -14469|        -2019|         -14437.0|          -3992|       NULL|       Laborers|            1.0|                  THURSDAY|                      8|         Electricity|                      NULL|                     NULL|                      NULL|                     NULL|                     NULL|                      NULL|\n",
      "|    100014|        Cash loans|          F|           N|              Y|           1|        112500.0|  652500.0|    21177.0|       652500.0|  Unaccompanied|             Working|    Higher education|             Married|House / apartment|    -10197|         -679|          -4427.0|           -738|       NULL|     Core staff|            3.0|                  SATURDAY|                     15|            Medicine|                       0.0|                      0.0|                       0.0|                      1.0|                      0.0|                       0.0|\n",
      "|    100015|        Cash loans|          F|           N|              Y|           0|       38419.155|  148365.0|    10678.5|       135000.0|       Children|           Pensioner|Secondary / secon...|             Married|House / apartment|    -20417|       365243|          -5246.0|          -2512|       NULL|           NULL|            2.0|                    FRIDAY|                      7|                 XNA|                       0.0|                      0.0|                       0.0|                      0.0|                      0.0|                       2.0|\n",
      "|    100016|        Cash loans|          F|           N|              Y|           0|         67500.0|   80865.0|     5881.5|        67500.0|  Unaccompanied|             Working|Secondary / secon...|             Married|House / apartment|    -13439|        -2717|           -311.0|          -3227|       NULL|       Laborers|            2.0|                    FRIDAY|                     10|Business Entity T...|                       0.0|                      0.0|                       0.0|                      1.0|                      0.0|                       0.0|\n",
      "|    100017|        Cash loans|          M|           Y|              N|           1|        225000.0|  918468.0|    28966.5|       697500.0|  Unaccompanied|             Working|Secondary / secon...|             Married|House / apartment|    -14086|        -3028|           -643.0|          -4911|       23.0|        Drivers|            3.0|                  THURSDAY|                     13|       Self-employed|                       0.0|                      0.0|                       0.0|                      0.0|                      0.0|                       1.0|\n",
      "|    100018|        Cash loans|          F|           N|              Y|           0|        189000.0|  773680.5|    32778.0|       679500.0|  Unaccompanied|             Working|Secondary / secon...|             Married|House / apartment|    -14583|         -203|           -615.0|          -2056|       NULL|       Laborers|            2.0|                    MONDAY|                      9|   Transport: type 2|                      NULL|                     NULL|                      NULL|                     NULL|                     NULL|                      NULL|\n",
      "|    100019|        Cash loans|          M|           Y|              Y|           0|        157500.0|  299772.0|    20160.0|       247500.0|         Family|             Working|Secondary / secon...|Single / not married| Rented apartment|     -8728|        -1157|          -3494.0|          -1368|       17.0|       Laborers|            1.0|                  SATURDAY|                      6|Business Entity T...|                       0.0|                      0.0|                       0.0|                      0.0|                      0.0|                       1.0|\n",
      "|    100020|        Cash loans|          M|           N|              N|           0|        108000.0|  509602.5|    26149.5|       387000.0|  Unaccompanied|             Working|Secondary / secon...|             Married|House / apartment|    -12931|        -1317|          -6392.0|          -3866|       NULL|        Drivers|            2.0|                  THURSDAY|                     12|          Government|                       0.0|                      0.0|                       0.0|                      0.0|                      1.0|                       0.0|\n",
      "|    100021|   Revolving loans|          F|           N|              Y|           1|         81000.0|  270000.0|    13500.0|       270000.0|  Unaccompanied|             Working|Secondary / secon...|             Married|House / apartment|     -9776|         -191|          -4143.0|          -2427|       NULL|       Laborers|            3.0|                    MONDAY|                     10|        Construction|                      NULL|                     NULL|                      NULL|                     NULL|                     NULL|                      NULL|\n",
      "|    100022|   Revolving loans|          F|           N|              Y|           0|        112500.0|  157500.0|     7875.0|       157500.0|        Other_A|             Working|Secondary / secon...|               Widow|House / apartment|    -17718|        -7804|          -8751.0|          -1259|       NULL|       Laborers|            1.0|                    FRIDAY|                     13|             Housing|                       0.0|                      0.0|                       0.0|                      0.0|                      0.0|                       0.0|\n",
      "|    100023|        Cash loans|          F|           N|              Y|           1|         90000.0|  544491.0|    17563.5|       454500.0|  Unaccompanied|       State servant|    Higher education|Single / not married|House / apartment|    -11348|        -2038|          -1021.0|          -3964|       NULL|     Core staff|            2.0|                    MONDAY|                     12|        Kindergarten|                       0.0|                      0.0|                       0.0|                      0.0|                      0.0|                       2.0|\n",
      "+----------+------------------+-----------+------------+---------------+------------+----------------+----------+-----------+---------------+---------------+--------------------+--------------------+--------------------+-----------------+----------+-------------+-----------------+---------------+-----------+---------------+---------------+--------------------------+-----------------------+--------------------+--------------------------+-------------------------+--------------------------+-------------------------+-------------------------+--------------------------+\n",
      "only showing top 20 rows\n",
      "\n"
     ]
    }
   ],
   "source": [
    "app_df = app_raw[['SK_ID_CURR','NAME_CONTRACT_TYPE','CODE_GENDER','FLAG_OWN_CAR','FLAG_OWN_REALTY','CNT_CHILDREN','AMT_INCOME_TOTAL','AMT_CREDIT','AMT_ANNUITY','AMT_GOODS_PRICE','NAME_TYPE_SUITE','NAME_INCOME_TYPE',\n",
    "'NAME_EDUCATION_TYPE','NAME_FAMILY_STATUS', 'NAME_HOUSING_TYPE','DAYS_BIRTH','DAYS_EMPLOYED','DAYS_REGISTRATION','DAYS_ID_PUBLISH','OWN_CAR_AGE','OCCUPATION_TYPE','CNT_FAM_MEMBERS','WEEKDAY_APPR_PROCESS_START',\n",
    "'HOUR_APPR_PROCESS_START','ORGANIZATION_TYPE','AMT_REQ_CREDIT_BUREAU_HOUR','AMT_REQ_CREDIT_BUREAU_DAY','AMT_REQ_CREDIT_BUREAU_WEEK','AMT_REQ_CREDIT_BUREAU_MON','AMT_REQ_CREDIT_BUREAU_QRT','AMT_REQ_CREDIT_BUREAU_YEAR']]\n",
    "app_df.show()"
   ]
  },
  {
   "cell_type": "markdown",
   "metadata": {},
   "source": [
    "<h3>Find completness</h3>"
   ]
  },
  {
   "cell_type": "code",
   "execution_count": 8,
   "metadata": {},
   "outputs": [],
   "source": [
    "def get_completeness(df_given):\n",
    "    # Calculate completeness for each column\n",
    "    completeness_data = []\n",
    "\n",
    "    for column in df_given.columns:\n",
    "        non_null_count = df_given.filter(col(column).isNotNull()).count()\n",
    "        total_count = df_given.count()\n",
    "        completeness = (non_null_count / total_count) * 100\n",
    "        completeness_data.append((column, completeness))\n",
    "\n",
    "    # Create a DataFrame to store the completeness results\n",
    "    return spark.createDataFrame(completeness_data, [\"Column\", \"Completeness\"])\n"
   ]
  },
  {
   "cell_type": "code",
   "execution_count": 9,
   "metadata": {},
   "outputs": [],
   "source": [
    "app_df_completness = get_completeness(app_df)\n",
    "prev_raw_completness = get_completeness(prev_raw)"
   ]
  },
  {
   "cell_type": "code",
   "execution_count": null,
   "metadata": {},
   "outputs": [],
   "source": [
    "app_df_completness.show(50)\n",
    "prev_raw_completness.show()"
   ]
  },
  {
   "cell_type": "markdown",
   "metadata": {},
   "source": [
    "<h3>Fill incomplete columns</h3>"
   ]
  },
  {
   "cell_type": "code",
   "execution_count": 16,
   "metadata": {},
   "outputs": [],
   "source": [
    "fill_values = {\"NAME_TYPE_SUITE\" : \"None\",\n",
    "                \"OCCUPATION_TYPE\" : \"Unknown\",\n",
    "                'OWN_CAR_AGE' : 0,'CNT_FAM_MEMBERS' : 0,\n",
    "                'AMT_ANNUITY' : 0,'AMT_GOODS_PRICE' : 0,\n",
    "                'AMT_REQ_CREDIT_BUREAU_HOUR' : 0,\n",
    "                'AMT_REQ_CREDIT_BUREAU_DAY' : 0,\n",
    "                'AMT_REQ_CREDIT_BUREAU_WEEK' : 0,\n",
    "                'AMT_REQ_CREDIT_BUREAU_MON' : 0,\n",
    "                'AMT_REQ_CREDIT_BUREAU_QRT' : 0,\n",
    "                'AMT_REQ_CREDIT_BUREAU_YEAR' : 0}\n",
    "app_df_complete = app_df.fillna(fill_values)\n",
    "completness_check = get_completeness(app_df_complete)"
   ]
  },
  {
   "cell_type": "code",
   "execution_count": 17,
   "metadata": {},
   "outputs": [
    {
     "ename": "Py4JJavaError",
     "evalue": "An error occurred while calling o434.showString.\n: org.apache.spark.SparkException: Job aborted due to stage failure: Task 0 in stage 486.0 failed 1 times, most recent failure: Lost task 0.0 in stage 486.0 (TID 1448) (172.31.129.41 executor driver): org.apache.spark.api.python.PythonException: Traceback (most recent call last):\n  File \"C:\\Users\\blake\\anaconda3\\Lib\\site-packages\\pyspark\\python\\lib\\pyspark.zip\\pyspark\\worker.py\", line 1100, in main\npyspark.errors.exceptions.base.PySparkRuntimeError: [PYTHON_VERSION_MISMATCH] Python in worker has different version (3, 9) than that in driver 3.11, PySpark cannot run with different minor versions.\nPlease check environment variables PYSPARK_PYTHON and PYSPARK_DRIVER_PYTHON are correctly set.\n\r\n\tat org.apache.spark.api.python.BasePythonRunner$ReaderIterator.handlePythonException(PythonRunner.scala:572)\r\n\tat org.apache.spark.api.python.PythonRunner$$anon$3.read(PythonRunner.scala:784)\r\n\tat org.apache.spark.api.python.PythonRunner$$anon$3.read(PythonRunner.scala:766)\r\n\tat org.apache.spark.api.python.BasePythonRunner$ReaderIterator.hasNext(PythonRunner.scala:525)\r\n\tat org.apache.spark.InterruptibleIterator.hasNext(InterruptibleIterator.scala:37)\r\n\tat scala.collection.Iterator$$anon$11.hasNext(Iterator.scala:491)\r\n\tat scala.collection.Iterator$$anon$10.hasNext(Iterator.scala:460)\r\n\tat scala.collection.Iterator$$anon$10.hasNext(Iterator.scala:460)\r\n\tat org.apache.spark.sql.catalyst.expressions.GeneratedClass$GeneratedIteratorForCodegenStage1.processNext(Unknown Source)\r\n\tat org.apache.spark.sql.execution.BufferedRowIterator.hasNext(BufferedRowIterator.java:43)\r\n\tat org.apache.spark.sql.execution.WholeStageCodegenEvaluatorFactory$WholeStageCodegenPartitionEvaluator$$anon$1.hasNext(WholeStageCodegenEvaluatorFactory.scala:43)\r\n\tat org.apache.spark.sql.execution.SparkPlan.$anonfun$getByteArrayRdd$1(SparkPlan.scala:388)\r\n\tat org.apache.spark.rdd.RDD.$anonfun$mapPartitionsInternal$2(RDD.scala:890)\r\n\tat org.apache.spark.rdd.RDD.$anonfun$mapPartitionsInternal$2$adapted(RDD.scala:890)\r\n\tat org.apache.spark.rdd.MapPartitionsRDD.compute(MapPartitionsRDD.scala:52)\r\n\tat org.apache.spark.rdd.RDD.computeOrReadCheckpoint(RDD.scala:364)\r\n\tat org.apache.spark.rdd.RDD.iterator(RDD.scala:328)\r\n\tat org.apache.spark.scheduler.ResultTask.runTask(ResultTask.scala:93)\r\n\tat org.apache.spark.TaskContext.runTaskWithListeners(TaskContext.scala:161)\r\n\tat org.apache.spark.scheduler.Task.run(Task.scala:141)\r\n\tat org.apache.spark.executor.Executor$TaskRunner.$anonfun$run$4(Executor.scala:620)\r\n\tat org.apache.spark.util.SparkErrorUtils.tryWithSafeFinally(SparkErrorUtils.scala:64)\r\n\tat org.apache.spark.util.SparkErrorUtils.tryWithSafeFinally$(SparkErrorUtils.scala:61)\r\n\tat org.apache.spark.util.Utils$.tryWithSafeFinally(Utils.scala:94)\r\n\tat org.apache.spark.executor.Executor$TaskRunner.run(Executor.scala:623)\r\n\tat java.base/java.util.concurrent.ThreadPoolExecutor.runWorker(ThreadPoolExecutor.java:1128)\r\n\tat java.base/java.util.concurrent.ThreadPoolExecutor$Worker.run(ThreadPoolExecutor.java:628)\r\n\tat java.base/java.lang.Thread.run(Thread.java:829)\r\n\nDriver stacktrace:\r\n\tat org.apache.spark.scheduler.DAGScheduler.failJobAndIndependentStages(DAGScheduler.scala:2844)\r\n\tat org.apache.spark.scheduler.DAGScheduler.$anonfun$abortStage$2(DAGScheduler.scala:2780)\r\n\tat org.apache.spark.scheduler.DAGScheduler.$anonfun$abortStage$2$adapted(DAGScheduler.scala:2779)\r\n\tat scala.collection.mutable.ResizableArray.foreach(ResizableArray.scala:62)\r\n\tat scala.collection.mutable.ResizableArray.foreach$(ResizableArray.scala:55)\r\n\tat scala.collection.mutable.ArrayBuffer.foreach(ArrayBuffer.scala:49)\r\n\tat org.apache.spark.scheduler.DAGScheduler.abortStage(DAGScheduler.scala:2779)\r\n\tat org.apache.spark.scheduler.DAGScheduler.$anonfun$handleTaskSetFailed$1(DAGScheduler.scala:1242)\r\n\tat org.apache.spark.scheduler.DAGScheduler.$anonfun$handleTaskSetFailed$1$adapted(DAGScheduler.scala:1242)\r\n\tat scala.Option.foreach(Option.scala:407)\r\n\tat org.apache.spark.scheduler.DAGScheduler.handleTaskSetFailed(DAGScheduler.scala:1242)\r\n\tat org.apache.spark.scheduler.DAGSchedulerEventProcessLoop.doOnReceive(DAGScheduler.scala:3048)\r\n\tat org.apache.spark.scheduler.DAGSchedulerEventProcessLoop.onReceive(DAGScheduler.scala:2982)\r\n\tat org.apache.spark.scheduler.DAGSchedulerEventProcessLoop.onReceive(DAGScheduler.scala:2971)\r\n\tat org.apache.spark.util.EventLoop$$anon$1.run(EventLoop.scala:49)\r\n\tat org.apache.spark.scheduler.DAGScheduler.runJob(DAGScheduler.scala:984)\r\n\tat org.apache.spark.SparkContext.runJob(SparkContext.scala:2398)\r\n\tat org.apache.spark.SparkContext.runJob(SparkContext.scala:2419)\r\n\tat org.apache.spark.SparkContext.runJob(SparkContext.scala:2438)\r\n\tat org.apache.spark.sql.execution.SparkPlan.executeTake(SparkPlan.scala:530)\r\n\tat org.apache.spark.sql.execution.SparkPlan.executeTake(SparkPlan.scala:483)\r\n\tat org.apache.spark.sql.execution.CollectLimitExec.executeCollect(limit.scala:61)\r\n\tat org.apache.spark.sql.Dataset.collectFromPlan(Dataset.scala:4344)\r\n\tat org.apache.spark.sql.Dataset.$anonfun$head$1(Dataset.scala:3326)\r\n\tat org.apache.spark.sql.Dataset.$anonfun$withAction$2(Dataset.scala:4334)\r\n\tat org.apache.spark.sql.execution.QueryExecution$.withInternalError(QueryExecution.scala:546)\r\n\tat org.apache.spark.sql.Dataset.$anonfun$withAction$1(Dataset.scala:4332)\r\n\tat org.apache.spark.sql.execution.SQLExecution$.$anonfun$withNewExecutionId$6(SQLExecution.scala:125)\r\n\tat org.apache.spark.sql.execution.SQLExecution$.withSQLConfPropagated(SQLExecution.scala:201)\r\n\tat org.apache.spark.sql.execution.SQLExecution$.$anonfun$withNewExecutionId$1(SQLExecution.scala:108)\r\n\tat org.apache.spark.sql.SparkSession.withActive(SparkSession.scala:900)\r\n\tat org.apache.spark.sql.execution.SQLExecution$.withNewExecutionId(SQLExecution.scala:66)\r\n\tat org.apache.spark.sql.Dataset.withAction(Dataset.scala:4332)\r\n\tat org.apache.spark.sql.Dataset.head(Dataset.scala:3326)\r\n\tat org.apache.spark.sql.Dataset.take(Dataset.scala:3549)\r\n\tat org.apache.spark.sql.Dataset.getRows(Dataset.scala:280)\r\n\tat org.apache.spark.sql.Dataset.showString(Dataset.scala:315)\r\n\tat java.base/jdk.internal.reflect.NativeMethodAccessorImpl.invoke0(Native Method)\r\n\tat java.base/jdk.internal.reflect.NativeMethodAccessorImpl.invoke(NativeMethodAccessorImpl.java:62)\r\n\tat java.base/jdk.internal.reflect.DelegatingMethodAccessorImpl.invoke(DelegatingMethodAccessorImpl.java:43)\r\n\tat java.base/java.lang.reflect.Method.invoke(Method.java:566)\r\n\tat py4j.reflection.MethodInvoker.invoke(MethodInvoker.java:244)\r\n\tat py4j.reflection.ReflectionEngine.invoke(ReflectionEngine.java:374)\r\n\tat py4j.Gateway.invoke(Gateway.java:282)\r\n\tat py4j.commands.AbstractCommand.invokeMethod(AbstractCommand.java:132)\r\n\tat py4j.commands.CallCommand.execute(CallCommand.java:79)\r\n\tat py4j.ClientServerConnection.waitForCommands(ClientServerConnection.java:182)\r\n\tat py4j.ClientServerConnection.run(ClientServerConnection.java:106)\r\n\tat java.base/java.lang.Thread.run(Thread.java:829)\r\nCaused by: org.apache.spark.api.python.PythonException: Traceback (most recent call last):\n  File \"C:\\Users\\blake\\anaconda3\\Lib\\site-packages\\pyspark\\python\\lib\\pyspark.zip\\pyspark\\worker.py\", line 1100, in main\npyspark.errors.exceptions.base.PySparkRuntimeError: [PYTHON_VERSION_MISMATCH] Python in worker has different version (3, 9) than that in driver 3.11, PySpark cannot run with different minor versions.\nPlease check environment variables PYSPARK_PYTHON and PYSPARK_DRIVER_PYTHON are correctly set.\n\r\n\tat org.apache.spark.api.python.BasePythonRunner$ReaderIterator.handlePythonException(PythonRunner.scala:572)\r\n\tat org.apache.spark.api.python.PythonRunner$$anon$3.read(PythonRunner.scala:784)\r\n\tat org.apache.spark.api.python.PythonRunner$$anon$3.read(PythonRunner.scala:766)\r\n\tat org.apache.spark.api.python.BasePythonRunner$ReaderIterator.hasNext(PythonRunner.scala:525)\r\n\tat org.apache.spark.InterruptibleIterator.hasNext(InterruptibleIterator.scala:37)\r\n\tat scala.collection.Iterator$$anon$11.hasNext(Iterator.scala:491)\r\n\tat scala.collection.Iterator$$anon$10.hasNext(Iterator.scala:460)\r\n\tat scala.collection.Iterator$$anon$10.hasNext(Iterator.scala:460)\r\n\tat org.apache.spark.sql.catalyst.expressions.GeneratedClass$GeneratedIteratorForCodegenStage1.processNext(Unknown Source)\r\n\tat org.apache.spark.sql.execution.BufferedRowIterator.hasNext(BufferedRowIterator.java:43)\r\n\tat org.apache.spark.sql.execution.WholeStageCodegenEvaluatorFactory$WholeStageCodegenPartitionEvaluator$$anon$1.hasNext(WholeStageCodegenEvaluatorFactory.scala:43)\r\n\tat org.apache.spark.sql.execution.SparkPlan.$anonfun$getByteArrayRdd$1(SparkPlan.scala:388)\r\n\tat org.apache.spark.rdd.RDD.$anonfun$mapPartitionsInternal$2(RDD.scala:890)\r\n\tat org.apache.spark.rdd.RDD.$anonfun$mapPartitionsInternal$2$adapted(RDD.scala:890)\r\n\tat org.apache.spark.rdd.MapPartitionsRDD.compute(MapPartitionsRDD.scala:52)\r\n\tat org.apache.spark.rdd.RDD.computeOrReadCheckpoint(RDD.scala:364)\r\n\tat org.apache.spark.rdd.RDD.iterator(RDD.scala:328)\r\n\tat org.apache.spark.scheduler.ResultTask.runTask(ResultTask.scala:93)\r\n\tat org.apache.spark.TaskContext.runTaskWithListeners(TaskContext.scala:161)\r\n\tat org.apache.spark.scheduler.Task.run(Task.scala:141)\r\n\tat org.apache.spark.executor.Executor$TaskRunner.$anonfun$run$4(Executor.scala:620)\r\n\tat org.apache.spark.util.SparkErrorUtils.tryWithSafeFinally(SparkErrorUtils.scala:64)\r\n\tat org.apache.spark.util.SparkErrorUtils.tryWithSafeFinally$(SparkErrorUtils.scala:61)\r\n\tat org.apache.spark.util.Utils$.tryWithSafeFinally(Utils.scala:94)\r\n\tat org.apache.spark.executor.Executor$TaskRunner.run(Executor.scala:623)\r\n\tat java.base/java.util.concurrent.ThreadPoolExecutor.runWorker(ThreadPoolExecutor.java:1128)\r\n\tat java.base/java.util.concurrent.ThreadPoolExecutor$Worker.run(ThreadPoolExecutor.java:628)\r\n\t... 1 more\r\n",
     "output_type": "error",
     "traceback": [
      "\u001b[1;31m---------------------------------------------------------------------------\u001b[0m",
      "\u001b[1;31mPy4JJavaError\u001b[0m                             Traceback (most recent call last)",
      "Cell \u001b[1;32mIn[17], line 1\u001b[0m\n\u001b[1;32m----> 1\u001b[0m completness_check\u001b[38;5;241m.\u001b[39mshow(\u001b[38;5;241m50\u001b[39m)\n",
      "File \u001b[1;32m~\\anaconda3\\Lib\\site-packages\\pyspark\\sql\\dataframe.py:959\u001b[0m, in \u001b[0;36mDataFrame.show\u001b[1;34m(self, n, truncate, vertical)\u001b[0m\n\u001b[0;32m    953\u001b[0m     \u001b[38;5;28;01mraise\u001b[39;00m PySparkTypeError(\n\u001b[0;32m    954\u001b[0m         error_class\u001b[38;5;241m=\u001b[39m\u001b[38;5;124m\"\u001b[39m\u001b[38;5;124mNOT_BOOL\u001b[39m\u001b[38;5;124m\"\u001b[39m,\n\u001b[0;32m    955\u001b[0m         message_parameters\u001b[38;5;241m=\u001b[39m{\u001b[38;5;124m\"\u001b[39m\u001b[38;5;124marg_name\u001b[39m\u001b[38;5;124m\"\u001b[39m: \u001b[38;5;124m\"\u001b[39m\u001b[38;5;124mvertical\u001b[39m\u001b[38;5;124m\"\u001b[39m, \u001b[38;5;124m\"\u001b[39m\u001b[38;5;124marg_type\u001b[39m\u001b[38;5;124m\"\u001b[39m: \u001b[38;5;28mtype\u001b[39m(vertical)\u001b[38;5;241m.\u001b[39m\u001b[38;5;18m__name__\u001b[39m},\n\u001b[0;32m    956\u001b[0m     )\n\u001b[0;32m    958\u001b[0m \u001b[38;5;28;01mif\u001b[39;00m \u001b[38;5;28misinstance\u001b[39m(truncate, \u001b[38;5;28mbool\u001b[39m) \u001b[38;5;129;01mand\u001b[39;00m truncate:\n\u001b[1;32m--> 959\u001b[0m     \u001b[38;5;28mprint\u001b[39m(\u001b[38;5;28mself\u001b[39m\u001b[38;5;241m.\u001b[39m_jdf\u001b[38;5;241m.\u001b[39mshowString(n, \u001b[38;5;241m20\u001b[39m, vertical))\n\u001b[0;32m    960\u001b[0m \u001b[38;5;28;01melse\u001b[39;00m:\n\u001b[0;32m    961\u001b[0m     \u001b[38;5;28;01mtry\u001b[39;00m:\n",
      "File \u001b[1;32m~\\anaconda3\\Lib\\site-packages\\py4j\\java_gateway.py:1322\u001b[0m, in \u001b[0;36mJavaMember.__call__\u001b[1;34m(self, *args)\u001b[0m\n\u001b[0;32m   1316\u001b[0m command \u001b[38;5;241m=\u001b[39m proto\u001b[38;5;241m.\u001b[39mCALL_COMMAND_NAME \u001b[38;5;241m+\u001b[39m\\\n\u001b[0;32m   1317\u001b[0m     \u001b[38;5;28mself\u001b[39m\u001b[38;5;241m.\u001b[39mcommand_header \u001b[38;5;241m+\u001b[39m\\\n\u001b[0;32m   1318\u001b[0m     args_command \u001b[38;5;241m+\u001b[39m\\\n\u001b[0;32m   1319\u001b[0m     proto\u001b[38;5;241m.\u001b[39mEND_COMMAND_PART\n\u001b[0;32m   1321\u001b[0m answer \u001b[38;5;241m=\u001b[39m \u001b[38;5;28mself\u001b[39m\u001b[38;5;241m.\u001b[39mgateway_client\u001b[38;5;241m.\u001b[39msend_command(command)\n\u001b[1;32m-> 1322\u001b[0m return_value \u001b[38;5;241m=\u001b[39m get_return_value(\n\u001b[0;32m   1323\u001b[0m     answer, \u001b[38;5;28mself\u001b[39m\u001b[38;5;241m.\u001b[39mgateway_client, \u001b[38;5;28mself\u001b[39m\u001b[38;5;241m.\u001b[39mtarget_id, \u001b[38;5;28mself\u001b[39m\u001b[38;5;241m.\u001b[39mname)\n\u001b[0;32m   1325\u001b[0m \u001b[38;5;28;01mfor\u001b[39;00m temp_arg \u001b[38;5;129;01min\u001b[39;00m temp_args:\n\u001b[0;32m   1326\u001b[0m     \u001b[38;5;28;01mif\u001b[39;00m \u001b[38;5;28mhasattr\u001b[39m(temp_arg, \u001b[38;5;124m\"\u001b[39m\u001b[38;5;124m_detach\u001b[39m\u001b[38;5;124m\"\u001b[39m):\n",
      "File \u001b[1;32m~\\anaconda3\\Lib\\site-packages\\pyspark\\errors\\exceptions\\captured.py:179\u001b[0m, in \u001b[0;36mcapture_sql_exception.<locals>.deco\u001b[1;34m(*a, **kw)\u001b[0m\n\u001b[0;32m    177\u001b[0m \u001b[38;5;28;01mdef\u001b[39;00m \u001b[38;5;21mdeco\u001b[39m(\u001b[38;5;241m*\u001b[39ma: Any, \u001b[38;5;241m*\u001b[39m\u001b[38;5;241m*\u001b[39mkw: Any) \u001b[38;5;241m-\u001b[39m\u001b[38;5;241m>\u001b[39m Any:\n\u001b[0;32m    178\u001b[0m     \u001b[38;5;28;01mtry\u001b[39;00m:\n\u001b[1;32m--> 179\u001b[0m         \u001b[38;5;28;01mreturn\u001b[39;00m f(\u001b[38;5;241m*\u001b[39ma, \u001b[38;5;241m*\u001b[39m\u001b[38;5;241m*\u001b[39mkw)\n\u001b[0;32m    180\u001b[0m     \u001b[38;5;28;01mexcept\u001b[39;00m Py4JJavaError \u001b[38;5;28;01mas\u001b[39;00m e:\n\u001b[0;32m    181\u001b[0m         converted \u001b[38;5;241m=\u001b[39m convert_exception(e\u001b[38;5;241m.\u001b[39mjava_exception)\n",
      "File \u001b[1;32m~\\anaconda3\\Lib\\site-packages\\py4j\\protocol.py:326\u001b[0m, in \u001b[0;36mget_return_value\u001b[1;34m(answer, gateway_client, target_id, name)\u001b[0m\n\u001b[0;32m    324\u001b[0m value \u001b[38;5;241m=\u001b[39m OUTPUT_CONVERTER[\u001b[38;5;28mtype\u001b[39m](answer[\u001b[38;5;241m2\u001b[39m:], gateway_client)\n\u001b[0;32m    325\u001b[0m \u001b[38;5;28;01mif\u001b[39;00m answer[\u001b[38;5;241m1\u001b[39m] \u001b[38;5;241m==\u001b[39m REFERENCE_TYPE:\n\u001b[1;32m--> 326\u001b[0m     \u001b[38;5;28;01mraise\u001b[39;00m Py4JJavaError(\n\u001b[0;32m    327\u001b[0m         \u001b[38;5;124m\"\u001b[39m\u001b[38;5;124mAn error occurred while calling \u001b[39m\u001b[38;5;132;01m{0}\u001b[39;00m\u001b[38;5;132;01m{1}\u001b[39;00m\u001b[38;5;132;01m{2}\u001b[39;00m\u001b[38;5;124m.\u001b[39m\u001b[38;5;130;01m\\n\u001b[39;00m\u001b[38;5;124m\"\u001b[39m\u001b[38;5;241m.\u001b[39m\n\u001b[0;32m    328\u001b[0m         \u001b[38;5;28mformat\u001b[39m(target_id, \u001b[38;5;124m\"\u001b[39m\u001b[38;5;124m.\u001b[39m\u001b[38;5;124m\"\u001b[39m, name), value)\n\u001b[0;32m    329\u001b[0m \u001b[38;5;28;01melse\u001b[39;00m:\n\u001b[0;32m    330\u001b[0m     \u001b[38;5;28;01mraise\u001b[39;00m Py4JError(\n\u001b[0;32m    331\u001b[0m         \u001b[38;5;124m\"\u001b[39m\u001b[38;5;124mAn error occurred while calling \u001b[39m\u001b[38;5;132;01m{0}\u001b[39;00m\u001b[38;5;132;01m{1}\u001b[39;00m\u001b[38;5;132;01m{2}\u001b[39;00m\u001b[38;5;124m. Trace:\u001b[39m\u001b[38;5;130;01m\\n\u001b[39;00m\u001b[38;5;132;01m{3}\u001b[39;00m\u001b[38;5;130;01m\\n\u001b[39;00m\u001b[38;5;124m\"\u001b[39m\u001b[38;5;241m.\u001b[39m\n\u001b[0;32m    332\u001b[0m         \u001b[38;5;28mformat\u001b[39m(target_id, \u001b[38;5;124m\"\u001b[39m\u001b[38;5;124m.\u001b[39m\u001b[38;5;124m\"\u001b[39m, name, value))\n",
      "\u001b[1;31mPy4JJavaError\u001b[0m: An error occurred while calling o434.showString.\n: org.apache.spark.SparkException: Job aborted due to stage failure: Task 0 in stage 486.0 failed 1 times, most recent failure: Lost task 0.0 in stage 486.0 (TID 1448) (172.31.129.41 executor driver): org.apache.spark.api.python.PythonException: Traceback (most recent call last):\n  File \"C:\\Users\\blake\\anaconda3\\Lib\\site-packages\\pyspark\\python\\lib\\pyspark.zip\\pyspark\\worker.py\", line 1100, in main\npyspark.errors.exceptions.base.PySparkRuntimeError: [PYTHON_VERSION_MISMATCH] Python in worker has different version (3, 9) than that in driver 3.11, PySpark cannot run with different minor versions.\nPlease check environment variables PYSPARK_PYTHON and PYSPARK_DRIVER_PYTHON are correctly set.\n\r\n\tat org.apache.spark.api.python.BasePythonRunner$ReaderIterator.handlePythonException(PythonRunner.scala:572)\r\n\tat org.apache.spark.api.python.PythonRunner$$anon$3.read(PythonRunner.scala:784)\r\n\tat org.apache.spark.api.python.PythonRunner$$anon$3.read(PythonRunner.scala:766)\r\n\tat org.apache.spark.api.python.BasePythonRunner$ReaderIterator.hasNext(PythonRunner.scala:525)\r\n\tat org.apache.spark.InterruptibleIterator.hasNext(InterruptibleIterator.scala:37)\r\n\tat scala.collection.Iterator$$anon$11.hasNext(Iterator.scala:491)\r\n\tat scala.collection.Iterator$$anon$10.hasNext(Iterator.scala:460)\r\n\tat scala.collection.Iterator$$anon$10.hasNext(Iterator.scala:460)\r\n\tat org.apache.spark.sql.catalyst.expressions.GeneratedClass$GeneratedIteratorForCodegenStage1.processNext(Unknown Source)\r\n\tat org.apache.spark.sql.execution.BufferedRowIterator.hasNext(BufferedRowIterator.java:43)\r\n\tat org.apache.spark.sql.execution.WholeStageCodegenEvaluatorFactory$WholeStageCodegenPartitionEvaluator$$anon$1.hasNext(WholeStageCodegenEvaluatorFactory.scala:43)\r\n\tat org.apache.spark.sql.execution.SparkPlan.$anonfun$getByteArrayRdd$1(SparkPlan.scala:388)\r\n\tat org.apache.spark.rdd.RDD.$anonfun$mapPartitionsInternal$2(RDD.scala:890)\r\n\tat org.apache.spark.rdd.RDD.$anonfun$mapPartitionsInternal$2$adapted(RDD.scala:890)\r\n\tat org.apache.spark.rdd.MapPartitionsRDD.compute(MapPartitionsRDD.scala:52)\r\n\tat org.apache.spark.rdd.RDD.computeOrReadCheckpoint(RDD.scala:364)\r\n\tat org.apache.spark.rdd.RDD.iterator(RDD.scala:328)\r\n\tat org.apache.spark.scheduler.ResultTask.runTask(ResultTask.scala:93)\r\n\tat org.apache.spark.TaskContext.runTaskWithListeners(TaskContext.scala:161)\r\n\tat org.apache.spark.scheduler.Task.run(Task.scala:141)\r\n\tat org.apache.spark.executor.Executor$TaskRunner.$anonfun$run$4(Executor.scala:620)\r\n\tat org.apache.spark.util.SparkErrorUtils.tryWithSafeFinally(SparkErrorUtils.scala:64)\r\n\tat org.apache.spark.util.SparkErrorUtils.tryWithSafeFinally$(SparkErrorUtils.scala:61)\r\n\tat org.apache.spark.util.Utils$.tryWithSafeFinally(Utils.scala:94)\r\n\tat org.apache.spark.executor.Executor$TaskRunner.run(Executor.scala:623)\r\n\tat java.base/java.util.concurrent.ThreadPoolExecutor.runWorker(ThreadPoolExecutor.java:1128)\r\n\tat java.base/java.util.concurrent.ThreadPoolExecutor$Worker.run(ThreadPoolExecutor.java:628)\r\n\tat java.base/java.lang.Thread.run(Thread.java:829)\r\n\nDriver stacktrace:\r\n\tat org.apache.spark.scheduler.DAGScheduler.failJobAndIndependentStages(DAGScheduler.scala:2844)\r\n\tat org.apache.spark.scheduler.DAGScheduler.$anonfun$abortStage$2(DAGScheduler.scala:2780)\r\n\tat org.apache.spark.scheduler.DAGScheduler.$anonfun$abortStage$2$adapted(DAGScheduler.scala:2779)\r\n\tat scala.collection.mutable.ResizableArray.foreach(ResizableArray.scala:62)\r\n\tat scala.collection.mutable.ResizableArray.foreach$(ResizableArray.scala:55)\r\n\tat scala.collection.mutable.ArrayBuffer.foreach(ArrayBuffer.scala:49)\r\n\tat org.apache.spark.scheduler.DAGScheduler.abortStage(DAGScheduler.scala:2779)\r\n\tat org.apache.spark.scheduler.DAGScheduler.$anonfun$handleTaskSetFailed$1(DAGScheduler.scala:1242)\r\n\tat org.apache.spark.scheduler.DAGScheduler.$anonfun$handleTaskSetFailed$1$adapted(DAGScheduler.scala:1242)\r\n\tat scala.Option.foreach(Option.scala:407)\r\n\tat org.apache.spark.scheduler.DAGScheduler.handleTaskSetFailed(DAGScheduler.scala:1242)\r\n\tat org.apache.spark.scheduler.DAGSchedulerEventProcessLoop.doOnReceive(DAGScheduler.scala:3048)\r\n\tat org.apache.spark.scheduler.DAGSchedulerEventProcessLoop.onReceive(DAGScheduler.scala:2982)\r\n\tat org.apache.spark.scheduler.DAGSchedulerEventProcessLoop.onReceive(DAGScheduler.scala:2971)\r\n\tat org.apache.spark.util.EventLoop$$anon$1.run(EventLoop.scala:49)\r\n\tat org.apache.spark.scheduler.DAGScheduler.runJob(DAGScheduler.scala:984)\r\n\tat org.apache.spark.SparkContext.runJob(SparkContext.scala:2398)\r\n\tat org.apache.spark.SparkContext.runJob(SparkContext.scala:2419)\r\n\tat org.apache.spark.SparkContext.runJob(SparkContext.scala:2438)\r\n\tat org.apache.spark.sql.execution.SparkPlan.executeTake(SparkPlan.scala:530)\r\n\tat org.apache.spark.sql.execution.SparkPlan.executeTake(SparkPlan.scala:483)\r\n\tat org.apache.spark.sql.execution.CollectLimitExec.executeCollect(limit.scala:61)\r\n\tat org.apache.spark.sql.Dataset.collectFromPlan(Dataset.scala:4344)\r\n\tat org.apache.spark.sql.Dataset.$anonfun$head$1(Dataset.scala:3326)\r\n\tat org.apache.spark.sql.Dataset.$anonfun$withAction$2(Dataset.scala:4334)\r\n\tat org.apache.spark.sql.execution.QueryExecution$.withInternalError(QueryExecution.scala:546)\r\n\tat org.apache.spark.sql.Dataset.$anonfun$withAction$1(Dataset.scala:4332)\r\n\tat org.apache.spark.sql.execution.SQLExecution$.$anonfun$withNewExecutionId$6(SQLExecution.scala:125)\r\n\tat org.apache.spark.sql.execution.SQLExecution$.withSQLConfPropagated(SQLExecution.scala:201)\r\n\tat org.apache.spark.sql.execution.SQLExecution$.$anonfun$withNewExecutionId$1(SQLExecution.scala:108)\r\n\tat org.apache.spark.sql.SparkSession.withActive(SparkSession.scala:900)\r\n\tat org.apache.spark.sql.execution.SQLExecution$.withNewExecutionId(SQLExecution.scala:66)\r\n\tat org.apache.spark.sql.Dataset.withAction(Dataset.scala:4332)\r\n\tat org.apache.spark.sql.Dataset.head(Dataset.scala:3326)\r\n\tat org.apache.spark.sql.Dataset.take(Dataset.scala:3549)\r\n\tat org.apache.spark.sql.Dataset.getRows(Dataset.scala:280)\r\n\tat org.apache.spark.sql.Dataset.showString(Dataset.scala:315)\r\n\tat java.base/jdk.internal.reflect.NativeMethodAccessorImpl.invoke0(Native Method)\r\n\tat java.base/jdk.internal.reflect.NativeMethodAccessorImpl.invoke(NativeMethodAccessorImpl.java:62)\r\n\tat java.base/jdk.internal.reflect.DelegatingMethodAccessorImpl.invoke(DelegatingMethodAccessorImpl.java:43)\r\n\tat java.base/java.lang.reflect.Method.invoke(Method.java:566)\r\n\tat py4j.reflection.MethodInvoker.invoke(MethodInvoker.java:244)\r\n\tat py4j.reflection.ReflectionEngine.invoke(ReflectionEngine.java:374)\r\n\tat py4j.Gateway.invoke(Gateway.java:282)\r\n\tat py4j.commands.AbstractCommand.invokeMethod(AbstractCommand.java:132)\r\n\tat py4j.commands.CallCommand.execute(CallCommand.java:79)\r\n\tat py4j.ClientServerConnection.waitForCommands(ClientServerConnection.java:182)\r\n\tat py4j.ClientServerConnection.run(ClientServerConnection.java:106)\r\n\tat java.base/java.lang.Thread.run(Thread.java:829)\r\nCaused by: org.apache.spark.api.python.PythonException: Traceback (most recent call last):\n  File \"C:\\Users\\blake\\anaconda3\\Lib\\site-packages\\pyspark\\python\\lib\\pyspark.zip\\pyspark\\worker.py\", line 1100, in main\npyspark.errors.exceptions.base.PySparkRuntimeError: [PYTHON_VERSION_MISMATCH] Python in worker has different version (3, 9) than that in driver 3.11, PySpark cannot run with different minor versions.\nPlease check environment variables PYSPARK_PYTHON and PYSPARK_DRIVER_PYTHON are correctly set.\n\r\n\tat org.apache.spark.api.python.BasePythonRunner$ReaderIterator.handlePythonException(PythonRunner.scala:572)\r\n\tat org.apache.spark.api.python.PythonRunner$$anon$3.read(PythonRunner.scala:784)\r\n\tat org.apache.spark.api.python.PythonRunner$$anon$3.read(PythonRunner.scala:766)\r\n\tat org.apache.spark.api.python.BasePythonRunner$ReaderIterator.hasNext(PythonRunner.scala:525)\r\n\tat org.apache.spark.InterruptibleIterator.hasNext(InterruptibleIterator.scala:37)\r\n\tat scala.collection.Iterator$$anon$11.hasNext(Iterator.scala:491)\r\n\tat scala.collection.Iterator$$anon$10.hasNext(Iterator.scala:460)\r\n\tat scala.collection.Iterator$$anon$10.hasNext(Iterator.scala:460)\r\n\tat org.apache.spark.sql.catalyst.expressions.GeneratedClass$GeneratedIteratorForCodegenStage1.processNext(Unknown Source)\r\n\tat org.apache.spark.sql.execution.BufferedRowIterator.hasNext(BufferedRowIterator.java:43)\r\n\tat org.apache.spark.sql.execution.WholeStageCodegenEvaluatorFactory$WholeStageCodegenPartitionEvaluator$$anon$1.hasNext(WholeStageCodegenEvaluatorFactory.scala:43)\r\n\tat org.apache.spark.sql.execution.SparkPlan.$anonfun$getByteArrayRdd$1(SparkPlan.scala:388)\r\n\tat org.apache.spark.rdd.RDD.$anonfun$mapPartitionsInternal$2(RDD.scala:890)\r\n\tat org.apache.spark.rdd.RDD.$anonfun$mapPartitionsInternal$2$adapted(RDD.scala:890)\r\n\tat org.apache.spark.rdd.MapPartitionsRDD.compute(MapPartitionsRDD.scala:52)\r\n\tat org.apache.spark.rdd.RDD.computeOrReadCheckpoint(RDD.scala:364)\r\n\tat org.apache.spark.rdd.RDD.iterator(RDD.scala:328)\r\n\tat org.apache.spark.scheduler.ResultTask.runTask(ResultTask.scala:93)\r\n\tat org.apache.spark.TaskContext.runTaskWithListeners(TaskContext.scala:161)\r\n\tat org.apache.spark.scheduler.Task.run(Task.scala:141)\r\n\tat org.apache.spark.executor.Executor$TaskRunner.$anonfun$run$4(Executor.scala:620)\r\n\tat org.apache.spark.util.SparkErrorUtils.tryWithSafeFinally(SparkErrorUtils.scala:64)\r\n\tat org.apache.spark.util.SparkErrorUtils.tryWithSafeFinally$(SparkErrorUtils.scala:61)\r\n\tat org.apache.spark.util.Utils$.tryWithSafeFinally(Utils.scala:94)\r\n\tat org.apache.spark.executor.Executor$TaskRunner.run(Executor.scala:623)\r\n\tat java.base/java.util.concurrent.ThreadPoolExecutor.runWorker(ThreadPoolExecutor.java:1128)\r\n\tat java.base/java.util.concurrent.ThreadPoolExecutor$Worker.run(ThreadPoolExecutor.java:628)\r\n\t... 1 more\r\n"
     ]
    }
   ],
   "source": [
    "completness_check.show(50)"
   ]
  },
  {
   "cell_type": "code",
   "execution_count": null,
   "metadata": {},
   "outputs": [],
   "source": [
    "app_df = app_df_complete"
   ]
  },
  {
   "cell_type": "markdown",
   "metadata": {},
   "source": [
    "<h3>Day values</h3>"
   ]
  },
  {
   "cell_type": "code",
   "execution_count": null,
   "metadata": {},
   "outputs": [],
   "source": [
    "columns_to_multiply = ['DAYS_BIRTH', 'DAYS_EMPLOYED', 'DAYS_REGISTRATION', 'DAYS_ID_PUBLISH']\n",
    "\n",
    "for col_name in columns_to_multiply:\n",
    "    app_df = app_df.withColumn(col_name, when(col(col_name) < 0, col(col_name) * -1).otherwise(col(col_name)))\n",
    "app_df.show()"
   ]
  },
  {
   "cell_type": "markdown",
   "metadata": {},
   "source": [
    "<h3>Renaming columns</h3>"
   ]
  },
  {
   "cell_type": "code",
   "execution_count": null,
   "metadata": {},
   "outputs": [],
   "source": [
    "app_df_renamed= app_df.withColumnRenamed('NAME_CONTRACT_TYPE', 'CONTRACT_TYPE') \\\n",
    "    .withColumnRenamed('CODE_GENDER', 'GENDER') \\\n",
    "    .withColumnRenamed('FLAG_OWN_CAR', 'OWN_CAR') \\\n",
    "    .withColumnRenamed('FLAG_OWN_REALTY', 'OWN_REALTY') \\\n",
    "    .withColumnRenamed('CNT_CHILDREN', 'NUMBER_CHILDREN') \\\n",
    "    .withColumnRenamed('AMT_INCOME_TOTAL', 'AMT_INCOME_TOTAL') \\\n",
    "    .withColumnRenamed('AMT_CREDIT', 'AMT_CREDIT') \\\n",
    "    .withColumnRenamed('AMT_ANNUITY', 'AMT_ANNUITY') \\\n",
    "    .withColumnRenamed('AMT_GOODS_PRICE', 'AMT_GOODS_PRICE') \\\n",
    "    .withColumnRenamed('NAME_TYPE_SUITE', 'REFERENCE_TYPE') \\\n",
    "    .withColumnRenamed('NAME_INCOME_TYPE', 'INCOME_TYPE') \\\n",
    "    .withColumnRenamed('NAME_EDUCATION_TYPE', 'EDUCATION_TYPE') \\\n",
    "    .withColumnRenamed('NAME_FAMILY_STATUS', 'FAMILY_STATUS') \\\n",
    "    .withColumnRenamed('NAME_HOUSING_TYPE', 'HOUSING_TYPE') \\\n",
    "    .withColumnRenamed('REGION_POPULATION_RELATIVE', 'REGION_POPULATION_RELATIVE') \\\n",
    "    .withColumnRenamed('DAYS_BIRTH', 'DAYS_BIRTH') \\\n",
    "    .withColumnRenamed('DAYS_EMPLOYED', 'DAYS_EMPLOYED') \\\n",
    "    .withColumnRenamed('DAYS_REGISTRATION', 'DAYS_REGISTRATION') \\\n",
    "    .withColumnRenamed('DAYS_ID_PUBLISH', 'DAYS_ID_PUBLISH') \\\n",
    "    .withColumnRenamed('OWN_CAR_AGE', 'CAR_AGE') \\\n",
    "    .withColumnRenamed('OCCUPATION_TYPE', 'OCCUPATION_TYPE') \\\n",
    "    .withColumnRenamed('CNT_FAM_MEMBERS', 'NUMBER_OF_FAM_MEMBERS') \\\n",
    "    .withColumnRenamed('WEEKDAY_APPR_PROCESS_START', 'WEEKDAY_PROCESS_START') \\\n",
    "    .withColumnRenamed('HOUR_APPR_PROCESS_START', 'HOUR_PROCESS_START') \\\n",
    "    .withColumnRenamed('ORGANIZATION_TYPE', 'ORGANIZATION_TYPE') \\\n",
    "    .withColumnRenamed('AMT_REQ_CREDIT_BUREAU_HOUR', 'CREDIT_INQUIRY_HOUR_PRIOR') \\\n",
    "    .withColumnRenamed('AMT_REQ_CREDIT_BUREAU_DAY', 'CREDIT_INQUIRY_DAY_PRIOR') \\\n",
    "    .withColumnRenamed('AMT_REQ_CREDIT_BUREAU_WEEK', 'CREDIT_INQUIRY_WEEK_PRIOR') \\\n",
    "    .withColumnRenamed('AMT_REQ_CREDIT_BUREAU_MON', 'CREDIT_INQUIRY_MONTH_PRIOR') \\\n",
    "    .withColumnRenamed('AMT_REQ_CREDIT_BUREAU_YEAR', 'CREDIT_INQUIRY_YEAR_PRIOR') \\\n",
    "    .withColumnRenamed('AMT_REQ_CREDIT_BUREAU_QRT', 'CREDIT_INQUIRY_QTR_PRIOR') "
   ]
  },
  {
   "cell_type": "code",
   "execution_count": null,
   "metadata": {},
   "outputs": [],
   "source": [
    "app_df_renamed.show()"
   ]
  },
  {
   "cell_type": "markdown",
   "metadata": {},
   "source": [
    "<h3>Make year values</h3>"
   ]
  },
  {
   "cell_type": "code",
   "execution_count": null,
   "metadata": {},
   "outputs": [],
   "source": [
    "columns_to_multiply = ['DAYS_BIRTH', 'DAYS_EMPLOYED', 'DAYS_REGISTRATION', 'DAYS_ID_PUBLISH']\n",
    "\n",
    "for col_name in columns_to_multiply:\n",
    "    app_df = app_df.withColumn(col_name+\"_IN_YEARS\", col(col_name)/365)"
   ]
  },
  {
   "cell_type": "code",
   "execution_count": null,
   "metadata": {},
   "outputs": [],
   "source": [
    "app_df.show()"
   ]
  },
  {
   "cell_type": "markdown",
   "metadata": {},
   "source": [
    "<h2>Data intergration</h2>"
   ]
  },
  {
   "cell_type": "code",
   "execution_count": null,
   "metadata": {},
   "outputs": [],
   "source": [
    "#Aggegate the dataset\n",
    "grouped = prev_raw.groupBy(\"SK_ID_CURR\")\n",
    "prev_df = grouped.agg(count(\"*\").alias(\"count\"))"
   ]
  },
  {
   "cell_type": "code",
   "execution_count": null,
   "metadata": {},
   "outputs": [],
   "source": [
    "#Merge datasets on SK_ID_CURR\n",
    "merged_df = app_df.join(prev_df, on=\"SK_ID_CURR\", how=\"inner\")"
   ]
  },
  {
   "cell_type": "markdown",
   "metadata": {},
   "source": [
    "<h2>Split training set</h2>"
   ]
  },
  {
   "cell_type": "code",
   "execution_count": null,
   "metadata": {},
   "outputs": [],
   "source": [
    "#Split merged data frame into training and testing set by a ratio of 70% : 30%\n",
    "train_ratio = 0.7\n",
    "test_ratio = 1 - train_ratio\n",
    "train_df, test_df = merged_df.randomSplit([train_ratio, test_ratio], seed=42)\n",
    "\n",
    "print(\"Training Set:\")\n",
    "train_df.show()\n",
    "\n",
    "print(\"Testing Set:\")\n",
    "test_df.show()"
   ]
  },
  {
   "cell_type": "markdown",
   "metadata": {},
   "source": [
    "<h2>Data mining</h2>"
   ]
  },
  {
   "cell_type": "markdown",
   "metadata": {},
   "source": [
    "<h3>FP Growth</h3>"
   ]
  },
  {
   "cell_type": "code",
   "execution_count": null,
   "metadata": {},
   "outputs": [],
   "source": [
    "columns_to_combine=['SK_ID_CURR','NAME_CONTRACT_TYPE','CODE_GENDER','FLAG_OWN_CAR','FLAG_OWN_REALTY','CNT_CHILDREN','AMT_INCOME_TOTAL','AMT_CREDIT','AMT_ANNUITY','AMT_GOODS_PRICE','NAME_TYPE_SUITE','NAME_INCOME_TYPE','NAME_EDUCATION_TYPE','NAME_FAMILY_STATUS','NAME_HOUSING_TYPE','DAYS_BIRTH','DAYS_EMPLOYED','DAYS_REGISTRATION','DAYS_ID_PUBLISH','OWN_CAR_AGE','OCCUPATION_TYPE','CNT_FAM_MEMBERS','WEEKDAY_APPR_PROCESS_START','HOUR_APPR_PROCESS_START','ORGANIZATION_TYPE','AMT_REQ_CREDIT_BUREAU_HOUR','AMT_REQ_CREDIT_BUREAU_DAY','AMT_REQ_CREDIT_BUREAU_WEEK','AMT_REQ_CREDIT_BUREAU_MON','AMT_REQ_CREDIT_BUREAU_QRT','AMT_REQ_CREDIT_BUREAU_YEAR','DAYS_BIRTH_IN_YEARS','DAYS_EMPLOYED_IN_YEARS','DAYS_REGISTRATION_IN_YEARS','DAYS_ID_PUBLISH_IN_YEARS','count']\n",
    "\n",
    "df_with_list = merged_df.withColumn( \"transaction\",\n",
    "    array(*[concat(lit(column + ': '), col(column)) for column in columns_to_combine])\n",
    ")\n",
    "\n",
    "df_with_list = df_with_list[['SK_ID_CURR', 'transaction']]\n",
    "\n",
    "df_with_list.show(truncate=False)\n"
   ]
  },
  {
   "cell_type": "code",
   "execution_count": null,
   "metadata": {},
   "outputs": [],
   "source": [
    "fp_growth = FPGrowth(itemsCol=\"transaction\", minSupport=0.4, minConfidence=0.7)\n",
    "\n",
    "model = fp_growth.fit(df_with_list)"
   ]
  },
  {
   "cell_type": "code",
   "execution_count": null,
   "metadata": {},
   "outputs": [],
   "source": [
    "# Display frequent itemsets\n",
    "print(\"Frequent Itemsets:\")\n",
    "model.freqItemsets.show(truncate=True)\n",
    "\n",
    "# Display association rules\n",
    "print(\"\\nAssociation Rules:\")\n",
    "rules = model.associationRules\n",
    "model.associationRules.show(50, truncate=False)"
   ]
  },
  {
   "cell_type": "markdown",
   "metadata": {},
   "source": [
    "<h3>Visualise FP-Growth</h3>"
   ]
  },
  {
   "cell_type": "code",
   "execution_count": null,
   "metadata": {},
   "outputs": [],
   "source": [
    "# Calculate the number of items in antecedents and filter\n",
    "rules = rules.withColumn('lhs_items', size(col('antecedent')))\n",
    "rules_filtered = rules.filter(rules['lhs_items'] > 1.4)\n",
    "\n",
    "# Sort by 'lift' in descending order\n",
    "sorted_rules = rules_filtered.orderBy(col('lift').desc())\n",
    "\n",
    "# Show the top results\n",
    "sorted_rules.show(50)\n",
    "\n",
    "# Replace frozen sets with strings\n",
    "rules_replaced = rules_filtered.withColumn('antecedent_', concat_ws(',', 'antecedent'))\n",
    "rules_replaced = rules_replaced.withColumn('consequent_', concat_ws(',', 'consequent'))"
   ]
  },
  {
   "cell_type": "code",
   "execution_count": null,
   "metadata": {},
   "outputs": [],
   "source": [
    "import pandas as pd\n",
    "rules_df = rules_replaced.toPandas()\n",
    "rules_df = rules_df[rules_df['lift']>1.1]\n",
    "pivot = rules_df[rules_df['lhs_items']>1.4].pivot(index = 'antecedent_', \n",
    "                    columns = 'consequent_', values= 'lift')\n",
    "\n",
    "# rules_df.head()\n",
    "# Generate a heatmap with annotations on\n",
    "sns.heatmap(pivot, annot=True)\n",
    "plt.yticks(rotation=0)\n",
    "plt.xticks(rotation=90)\n",
    "plt.grid()\n",
    "plt.show()"
   ]
  },
  {
   "cell_type": "code",
   "execution_count": null,
   "metadata": {},
   "outputs": [],
   "source": [
    "# Find the statistics\n",
    "max_support = rules_filtered.agg({\"support\": \"max\"}).collect()[0][0]\n",
    "min_support = rules_filtered.agg({\"support\": \"min\"}).collect()[0][0]\n",
    "max_confidence = rules_filtered.agg({\"confidence\": \"max\"}).collect()[0][0]\n",
    "min_confidence = rules_filtered.agg({\"confidence\": \"min\"}).collect()[0][0]\n",
    "max_lift = rules_filtered.agg({\"lift\": \"max\"}).collect()[0][0]\n",
    "min_lift = rules_filtered.agg({\"lift\": \"min\"}).collect()[0][0]\n",
    "\n",
    "print(f\"Maximum Support: {max_support:.4f}\")\n",
    "print(f\"Minimum Support: {min_support:.4f}\")\n",
    "print(f\"Maximum Confidence: {max_confidence:.4f}\")\n",
    "print(f\"Minimum Confidence: {min_confidence:.4f}\")\n",
    "print(f\"Maximum Lift: {max_lift:.4f}\")\n",
    "print(f\"Minimum Lift: {min_lift:.4f}\")"
   ]
  },
  {
   "cell_type": "markdown",
   "metadata": {},
   "source": [
    "<h3>K - means</h3>"
   ]
  },
  {
   "cell_type": "code",
   "execution_count": null,
   "metadata": {},
   "outputs": [],
   "source": [
    "# Load your data into a DataFrame\n",
    "data = app_df\n",
    "\n",
    "# Identify non-numeric columns\n",
    "non_numeric_cols = [col for col, dtype in data.dtypes if dtype == 'string']\n",
    "\n",
    "# Create stages for one-hot encoding\n",
    "stages = []\n",
    "\n",
    "for col in non_numeric_cols:\n",
    "    indexer = StringIndexer(inputCol=col, outputCol=col + \"_index\")\n",
    "    encoder = OneHotEncoder(inputCol=col + \"_index\", outputCol=col + \"_encoded\")\n",
    "    stages += [indexer, encoder]\n",
    "\n",
    "# Assemble feature vectors\n",
    "feature_cols = [col + \"_encoded\" for col in non_numeric_cols] + [col for col in data.columns if col not in non_numeric_cols]\n",
    "assembler = VectorAssembler(inputCols=feature_cols, outputCol=\"features\")\n",
    "stages += [assembler]\n",
    "\n",
    "# Create a pipeline\n",
    "pipeline = Pipeline(stages=stages)\n",
    "model = pipeline.fit(data)\n",
    "data_transformed = model.transform(data)\n",
    "\n",
    "# Select the relevant columns\n",
    "selected_columns = [\"features\"] + [col for col in data.columns if col not in non_numeric_cols]\n",
    "data_transformed = data_transformed.select(selected_columns)\n",
    "\n",
    "# Show the transformed DataFrame\n",
    "data_transformed.show(truncate=False)\n",
    "\n"
   ]
  },
  {
   "cell_type": "code",
   "execution_count": null,
   "metadata": {},
   "outputs": [],
   "source": [
    "#Find silhouette score\n",
    "k_values = [2, 3, 4, 5]  # Test different values of K\n",
    "for k in k_values:\n",
    "    kmeans = KMeans().setK(k).setSeed(1).setFeaturesCol(\"features\")\n",
    "    model = kmeans.fit(data_transformed)\n",
    "\n",
    "    # Get the cluster assignments\n",
    "    predictions = model.transform(data_transformed)\n",
    "\n",
    "    # Evaluate the clustering using the Silhouette score\n",
    "    evaluator = ClusteringEvaluator()\n",
    "    silhouette_score = evaluator.evaluate(predictions)\n",
    "    print(f\"For K={k}, Silhouette Score: {silhouette_score}\")"
   ]
  },
  {
   "cell_type": "code",
   "execution_count": null,
   "metadata": {},
   "outputs": [],
   "source": [
    "#Actual K-Means program\n",
    "kmeans = KMeans(featuresCol='features',k=2) \n",
    "model = kmeans.fit(data_transformed) \n",
    "predictions = model.transform(data_transformed)"
   ]
  },
  {
   "cell_type": "code",
   "execution_count": null,
   "metadata": {},
   "outputs": [],
   "source": [
    "#Show cluster diffrences\n",
    "grouped_data = predictions.groupBy(\"prediction\")\n",
    "\n",
    "# Define the attributes you want to aggregate\n",
    "attributes_to_aggregate = [\n",
    "    \"CNT_CHILDREN\",\n",
    "    \"AMT_INCOME_TOTAL\",\n",
    "    \"AMT_CREDIT\",\n",
    "    \"AMT_ANNUITY\",\n",
    "    \"AMT_GOODS_PRICE\",\n",
    "    \"Age\",\n",
    "    \"Years_EMPLOYED\",\n",
    "    \"Years_REGISTRATION\",\n",
    "    \"Years_ID_PUBLISH\",\n",
    "    \"OWN_CAR_AGE\",\n",
    "    \"CNT_FAM_MEMBERS\",\n",
    "    \"HOUR_APPR_PROCESS_START\",\n",
    "    \"AMT_REQ_CREDIT_BUREAU_HOUR\",\n",
    "    \"AMT_REQ_CREDIT_BUREAU_DAY\",\n",
    "    \"AMT_REQ_CREDIT_BUREAU_WEEK\",\n",
    "    \"AMT_REQ_CREDIT_BUREAU_MON\",\n",
    "    \"AMT_REQ_CREDIT_BUREAU_QRT\",\n",
    "    \"AMT_REQ_CREDIT_BUREAU_YEAR\"\n",
    "]\n",
    "\n",
    "# Create aggregation expressions for each attribute\n",
    "agg_exprs = {attr: \"mean\" for attr in attributes_to_aggregate}\n",
    "\n",
    "# Calculate the mean of specified attributes within each cluster\n",
    "cluster_means = grouped_data.agg(agg_exprs)\n",
    "\n",
    "# Show the results\n",
    "cluster_means.show()"
   ]
  },
  {
   "cell_type": "code",
   "execution_count": null,
   "metadata": {},
   "outputs": [],
   "source": []
  },
  {
   "cell_type": "code",
   "execution_count": null,
   "metadata": {},
   "outputs": [],
   "source": []
  }
 ],
 "metadata": {
  "kernelspec": {
   "display_name": "Python 3 (ipykernel)",
   "language": "python",
   "name": "python3"
  },
  "language_info": {
   "codemirror_mode": {
    "name": "ipython",
    "version": 3
   },
   "file_extension": ".py",
   "mimetype": "text/x-python",
   "name": "python",
   "nbconvert_exporter": "python",
   "pygments_lexer": "ipython3",
   "version": "3.11.3"
  }
 },
 "nbformat": 4,
 "nbformat_minor": 2
}
